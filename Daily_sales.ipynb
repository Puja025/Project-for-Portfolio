{
 "cells": [
  {
   "cell_type": "code",
   "execution_count": 381,
   "id": "bef53d7f",
   "metadata": {},
   "outputs": [],
   "source": [
    "import pandas as pd\n",
    "import numpy as np\n",
    "import matplotlib.pyplot as plt\n",
    "%matplotlib inline\n",
    "import seaborn as sns\n",
    "import warnings\n",
    "\n",
    "warnings.simplefilter(action='ignore', category=FutureWarning)"
   ]
  },
  {
   "cell_type": "code",
   "execution_count": 382,
   "id": "c8ba56c3",
   "metadata": {},
   "outputs": [
    {
     "data": {
      "text/html": [
       "<div>\n",
       "<style scoped>\n",
       "    .dataframe tbody tr th:only-of-type {\n",
       "        vertical-align: middle;\n",
       "    }\n",
       "\n",
       "    .dataframe tbody tr th {\n",
       "        vertical-align: top;\n",
       "    }\n",
       "\n",
       "    .dataframe thead th {\n",
       "        text-align: right;\n",
       "    }\n",
       "</style>\n",
       "<table border=\"1\" class=\"dataframe\">\n",
       "  <thead>\n",
       "    <tr style=\"text-align: right;\">\n",
       "      <th></th>\n",
       "      <th>calendar_day</th>\n",
       "      <th>article</th>\n",
       "      <th>article_text</th>\n",
       "      <th>sales_org</th>\n",
       "      <th>sales_profit</th>\n",
       "      <th>sales_profit_currency</th>\n",
       "      <th>quantity</th>\n",
       "      <th>sales_excluding_tax</th>\n",
       "      <th>cost</th>\n",
       "    </tr>\n",
       "  </thead>\n",
       "  <tbody>\n",
       "    <tr>\n",
       "      <th>0</th>\n",
       "      <td>20210108</td>\n",
       "      <td>000000000001646463</td>\n",
       "      <td>SHE Terry 105x200x40cm grey KRONBORG</td>\n",
       "      <td>1002</td>\n",
       "      <td>821.47</td>\n",
       "      <td>SEK</td>\n",
       "      <td>8.0</td>\n",
       "      <td>1184.0</td>\n",
       "      <td>362.53</td>\n",
       "    </tr>\n",
       "    <tr>\n",
       "      <th>1</th>\n",
       "      <td>20201209</td>\n",
       "      <td>000000000003253632</td>\n",
       "      <td>MA 90x200cm PLUS B80 Grey-27 DREAMZONE</td>\n",
       "      <td>1002</td>\n",
       "      <td>12646.59</td>\n",
       "      <td>SEK</td>\n",
       "      <td>9.0</td>\n",
       "      <td>26160.0</td>\n",
       "      <td>13513.41</td>\n",
       "    </tr>\n",
       "    <tr>\n",
       "      <th>2</th>\n",
       "      <td>20210427</td>\n",
       "      <td>000000000003250323</td>\n",
       "      <td>MA 80x200cm PLUS F65 DREAMZONE</td>\n",
       "      <td>1002</td>\n",
       "      <td>6262.78</td>\n",
       "      <td>SEK</td>\n",
       "      <td>12.0</td>\n",
       "      <td>11040.0</td>\n",
       "      <td>4777.22</td>\n",
       "    </tr>\n",
       "    <tr>\n",
       "      <th>3</th>\n",
       "      <td>20210702</td>\n",
       "      <td>000000000002508340</td>\n",
       "      <td>BM FAGERSTA 70x120cm black</td>\n",
       "      <td>1002</td>\n",
       "      <td>36.16</td>\n",
       "      <td>SEK</td>\n",
       "      <td>1.0</td>\n",
       "      <td>80.0</td>\n",
       "      <td>43.84</td>\n",
       "    </tr>\n",
       "    <tr>\n",
       "      <th>4</th>\n",
       "      <td>20210616</td>\n",
       "      <td>000000000004921500</td>\n",
       "      <td>Storage box SMARTSTORE classic 45 w/lid</td>\n",
       "      <td>1002</td>\n",
       "      <td>5253.41</td>\n",
       "      <td>SEK</td>\n",
       "      <td>82.0</td>\n",
       "      <td>9734.4</td>\n",
       "      <td>4480.99</td>\n",
       "    </tr>\n",
       "  </tbody>\n",
       "</table>\n",
       "</div>"
      ],
      "text/plain": [
       "   calendar_day             article                             article_text  \\\n",
       "0      20210108  000000000001646463     SHE Terry 105x200x40cm grey KRONBORG   \n",
       "1      20201209  000000000003253632   MA 90x200cm PLUS B80 Grey-27 DREAMZONE   \n",
       "2      20210427  000000000003250323           MA 80x200cm PLUS F65 DREAMZONE   \n",
       "3      20210702  000000000002508340               BM FAGERSTA 70x120cm black   \n",
       "4      20210616  000000000004921500  Storage box SMARTSTORE classic 45 w/lid   \n",
       "\n",
       "   sales_org  sales_profit sales_profit_currency  quantity  \\\n",
       "0       1002        821.47                   SEK       8.0   \n",
       "1       1002      12646.59                   SEK       9.0   \n",
       "2       1002       6262.78                   SEK      12.0   \n",
       "3       1002         36.16                   SEK       1.0   \n",
       "4       1002       5253.41                   SEK      82.0   \n",
       "\n",
       "   sales_excluding_tax      cost  \n",
       "0               1184.0    362.53  \n",
       "1              26160.0  13513.41  \n",
       "2              11040.0   4777.22  \n",
       "3                 80.0     43.84  \n",
       "4               9734.4   4480.99  "
      ]
     },
     "execution_count": 382,
     "metadata": {},
     "output_type": "execute_result"
    }
   ],
   "source": [
    "df = pd.read_csv('daily_sales_1002.csv', encoding='ISO-8859-1', dtype={'article':'str','article_text':'str', 'sales_profit': 'float'})\n",
    "df.head()"
   ]
  },
  {
   "cell_type": "markdown",
   "id": "fa499807",
   "metadata": {},
   "source": [
    "Distribution of the values"
   ]
  },
  {
   "cell_type": "code",
   "execution_count": 423,
   "id": "1b7b317e",
   "metadata": {},
   "outputs": [
    {
     "data": {
      "text/plain": [
       "array([[<AxesSubplot:title={'center':'calendar_day'}>,\n",
       "        <AxesSubplot:title={'center':'sales_org'}>,\n",
       "        <AxesSubplot:title={'center':'sales_profit'}>],\n",
       "       [<AxesSubplot:title={'center':'quantity'}>,\n",
       "        <AxesSubplot:title={'center':'sales_excluding_tax'}>,\n",
       "        <AxesSubplot:title={'center':'cost'}>],\n",
       "       [<AxesSubplot:title={'center':'month'}>, <AxesSubplot:>,\n",
       "        <AxesSubplot:>]], dtype=object)"
      ]
     },
     "execution_count": 423,
     "metadata": {},
     "output_type": "execute_result"
    },
    {
     "data": {
      "image/png": "[encoded data removed]",
      "text/plain": [
       "<Figure size 1440x720 with 9 Axes>"
      ]
     },
     "metadata": {
      "needs_background": "light"
     },
     "output_type": "display_data"
    }
   ],
   "source": [
    "df.hist(bins = 60,figsize = (20,10))"
   ]
  },
  {
   "cell_type": "markdown",
   "id": "85349005",
   "metadata": {},
   "source": [
    "## Data Exploration "
   ]
  },
  {
   "cell_type": "code",
   "execution_count": 384,
   "id": "1c817d44",
   "metadata": {},
   "outputs": [
    {
     "data": {
      "text/plain": [
       "Fittings                                    9262\n",
       "TT FLEKKMURE 50x70 3pcs/pk ass.             1465\n",
       "COA SVARTOR 135cm jacq. grey                1298\n",
       "MP 90x200cm PLUS T40 DREAMZONE              1229\n",
       "Tealights PIEREY 100pcs/pk                  1209\n",
       "                                            ... \n",
       "CUR BYRE 1x140x245 natural                     1\n",
       "MA 90x200cm TEMPRAKON Box                      1\n",
       "String curtain NISSER 90x245 cream plain       1\n",
       "Tealightholder as a tree 4 cups                1\n",
       "CUR STORFOSNA 1x145x245 coral                  1\n",
       "Name: article_text, Length: 9946, dtype: int64"
      ]
     },
     "execution_count": 384,
     "metadata": {},
     "output_type": "execute_result"
    }
   ],
   "source": [
    "df['article_text'].value_counts()"
   ]
  },
  {
   "cell_type": "code",
   "execution_count": 385,
   "id": "911cd980",
   "metadata": {},
   "outputs": [
    {
     "data": {
      "text/plain": [
       "<AxesSubplot:>"
      ]
     },
     "execution_count": 385,
     "metadata": {},
     "output_type": "execute_result"
    },
    {
     "data": {
      "image/png": "[encoded data removed]",
      "text/plain": [
       "<Figure size 1440x720 with 1 Axes>"
      ]
     },
     "metadata": {
      "needs_background": "light"
     },
     "output_type": "display_data"
    }
   ],
   "source": [
    "pd.DataFrame(df['article_text'].value_counts().head(20)).plot(kind = 'bar', figsize = (20,10))"
   ]
  },
  {
   "cell_type": "code",
   "execution_count": 386,
   "id": "feb3c8ed",
   "metadata": {},
   "outputs": [
    {
     "data": {
      "text/plain": [
       "<AxesSubplot:>"
      ]
     },
     "execution_count": 386,
     "metadata": {},
     "output_type": "execute_result"
    },
    {
     "data": {
      "image/png": "[encoded data removed]",
      "text/plain": [
       "<Figure size 1440x720 with 1 Axes>"
      ]
     },
     "metadata": {
      "needs_background": "light"
     },
     "output_type": "display_data"
    }
   ],
   "source": [
    "pd.DataFrame(df['sales_profit'].value_counts().head(20)).plot(kind = 'bar', figsize = (20,10))"
   ]
  },
  {
   "cell_type": "code",
   "execution_count": 387,
   "id": "1d8a957d",
   "metadata": {},
   "outputs": [
    {
     "data": {
      "text/plain": [
       "<AxesSubplot:>"
      ]
     },
     "execution_count": 387,
     "metadata": {},
     "output_type": "execute_result"
    },
    {
     "data": {
      "image/png": "[encoded data removed]",
      "text/plain": [
       "<Figure size 1440x720 with 1 Axes>"
      ]
     },
     "metadata": {
      "needs_background": "light"
     },
     "output_type": "display_data"
    }
   ],
   "source": [
    "pd.DataFrame(df['sales_profit'].value_counts().head(20)).plot(kind = 'bar', figsize = (20,10))"
   ]
  },
  {
   "cell_type": "markdown",
   "id": "656d2b66",
   "metadata": {},
   "source": [
    "## Data Wrangling"
   ]
  },
  {
   "cell_type": "code",
   "execution_count": 388,
   "id": "8390ce51",
   "metadata": {},
   "outputs": [
    {
     "data": {
      "text/html": [
       "<div>\n",
       "<style scoped>\n",
       "    .dataframe tbody tr th:only-of-type {\n",
       "        vertical-align: middle;\n",
       "    }\n",
       "\n",
       "    .dataframe tbody tr th {\n",
       "        vertical-align: top;\n",
       "    }\n",
       "\n",
       "    .dataframe thead th {\n",
       "        text-align: right;\n",
       "    }\n",
       "</style>\n",
       "<table border=\"1\" class=\"dataframe\">\n",
       "  <thead>\n",
       "    <tr style=\"text-align: right;\">\n",
       "      <th></th>\n",
       "      <th>calendar_day</th>\n",
       "      <th>sales_org</th>\n",
       "      <th>sales_profit</th>\n",
       "      <th>quantity</th>\n",
       "      <th>sales_excluding_tax</th>\n",
       "      <th>cost</th>\n",
       "    </tr>\n",
       "  </thead>\n",
       "  <tbody>\n",
       "    <tr>\n",
       "      <th>count</th>\n",
       "      <td>2.544735e+06</td>\n",
       "      <td>2544735.0</td>\n",
       "      <td>2.544735e+06</td>\n",
       "      <td>2.544735e+06</td>\n",
       "      <td>2.544735e+06</td>\n",
       "      <td>2.544735e+06</td>\n",
       "    </tr>\n",
       "    <tr>\n",
       "      <th>mean</th>\n",
       "      <td>2.020525e+07</td>\n",
       "      <td>1002.0</td>\n",
       "      <td>1.607778e+03</td>\n",
       "      <td>1.855051e+01</td>\n",
       "      <td>2.857790e+03</td>\n",
       "      <td>1.250012e+03</td>\n",
       "    </tr>\n",
       "    <tr>\n",
       "      <th>std</th>\n",
       "      <td>4.946806e+03</td>\n",
       "      <td>0.0</td>\n",
       "      <td>4.324751e+03</td>\n",
       "      <td>6.883381e+01</td>\n",
       "      <td>8.066016e+03</td>\n",
       "      <td>4.149701e+03</td>\n",
       "    </tr>\n",
       "    <tr>\n",
       "      <th>min</th>\n",
       "      <td>2.020010e+07</td>\n",
       "      <td>1002.0</td>\n",
       "      <td>-6.675900e+04</td>\n",
       "      <td>-4.059000e+03</td>\n",
       "      <td>-4.452935e+04</td>\n",
       "      <td>-5.788395e+04</td>\n",
       "    </tr>\n",
       "    <tr>\n",
       "      <th>25%</th>\n",
       "      <td>2.020062e+07</td>\n",
       "      <td>1002.0</td>\n",
       "      <td>1.452000e+02</td>\n",
       "      <td>2.000000e+00</td>\n",
       "      <td>2.880000e+02</td>\n",
       "      <td>1.003100e+02</td>\n",
       "    </tr>\n",
       "    <tr>\n",
       "      <th>50%</th>\n",
       "      <td>2.020120e+07</td>\n",
       "      <td>1002.0</td>\n",
       "      <td>5.958700e+02</td>\n",
       "      <td>6.000000e+00</td>\n",
       "      <td>9.928000e+02</td>\n",
       "      <td>3.445400e+02</td>\n",
       "    </tr>\n",
       "    <tr>\n",
       "      <th>75%</th>\n",
       "      <td>2.021052e+07</td>\n",
       "      <td>1002.0</td>\n",
       "      <td>1.578530e+03</td>\n",
       "      <td>1.800000e+01</td>\n",
       "      <td>2.640000e+03</td>\n",
       "      <td>1.023545e+03</td>\n",
       "    </tr>\n",
       "    <tr>\n",
       "      <th>max</th>\n",
       "      <td>2.021110e+07</td>\n",
       "      <td>1002.0</td>\n",
       "      <td>7.414514e+05</td>\n",
       "      <td>7.117700e+04</td>\n",
       "      <td>2.453447e+06</td>\n",
       "      <td>1.711996e+06</td>\n",
       "    </tr>\n",
       "  </tbody>\n",
       "</table>\n",
       "</div>"
      ],
      "text/plain": [
       "       calendar_day  sales_org  sales_profit      quantity  \\\n",
       "count  2.544735e+06  2544735.0  2.544735e+06  2.544735e+06   \n",
       "mean   2.020525e+07     1002.0  1.607778e+03  1.855051e+01   \n",
       "std    4.946806e+03        0.0  4.324751e+03  6.883381e+01   \n",
       "min    2.020010e+07     1002.0 -6.675900e+04 -4.059000e+03   \n",
       "25%    2.020062e+07     1002.0  1.452000e+02  2.000000e+00   \n",
       "50%    2.020120e+07     1002.0  5.958700e+02  6.000000e+00   \n",
       "75%    2.021052e+07     1002.0  1.578530e+03  1.800000e+01   \n",
       "max    2.021110e+07     1002.0  7.414514e+05  7.117700e+04   \n",
       "\n",
       "       sales_excluding_tax          cost  \n",
       "count         2.544735e+06  2.544735e+06  \n",
       "mean          2.857790e+03  1.250012e+03  \n",
       "std           8.066016e+03  4.149701e+03  \n",
       "min          -4.452935e+04 -5.788395e+04  \n",
       "25%           2.880000e+02  1.003100e+02  \n",
       "50%           9.928000e+02  3.445400e+02  \n",
       "75%           2.640000e+03  1.023545e+03  \n",
       "max           2.453447e+06  1.711996e+06  "
      ]
     },
     "execution_count": 388,
     "metadata": {},
     "output_type": "execute_result"
    }
   ],
   "source": [
    "df.describe()"
   ]
  },
  {
   "cell_type": "code",
   "execution_count": 389,
   "id": "1af00b08",
   "metadata": {},
   "outputs": [
    {
     "name": "stdout",
     "output_type": "stream",
     "text": [
      "<class 'pandas.core.frame.DataFrame'>\n",
      "RangeIndex: 2544735 entries, 0 to 2544734\n",
      "Data columns (total 9 columns):\n",
      " #   Column                 Dtype  \n",
      "---  ------                 -----  \n",
      " 0   calendar_day           int64  \n",
      " 1   article                object \n",
      " 2   article_text           object \n",
      " 3   sales_org              int64  \n",
      " 4   sales_profit           float64\n",
      " 5   sales_profit_currency  object \n",
      " 6   quantity               float64\n",
      " 7   sales_excluding_tax    float64\n",
      " 8   cost                   float64\n",
      "dtypes: float64(4), int64(2), object(3)\n",
      "memory usage: 174.7+ MB\n"
     ]
    }
   ],
   "source": [
    "df.info()"
   ]
  },
  {
   "cell_type": "code",
   "execution_count": 390,
   "id": "ffcdab2f",
   "metadata": {},
   "outputs": [
    {
     "data": {
      "text/plain": [
       "calendar_day                675\n",
       "article                   12697\n",
       "article_text               9946\n",
       "sales_org                     1\n",
       "sales_profit             575169\n",
       "sales_profit_currency         1\n",
       "quantity                   4646\n",
       "sales_excluding_tax      158990\n",
       "cost                     456470\n",
       "dtype: int64"
      ]
     },
     "execution_count": 390,
     "metadata": {},
     "output_type": "execute_result"
    }
   ],
   "source": [
    "df.nunique()"
   ]
  },
  {
   "cell_type": "code",
   "execution_count": 391,
   "id": "97ec5517",
   "metadata": {},
   "outputs": [
    {
     "data": {
      "text/plain": [
       "0"
      ]
     },
     "execution_count": 391,
     "metadata": {},
     "output_type": "execute_result"
    }
   ],
   "source": [
    "df.duplicated().sum()"
   ]
  },
  {
   "cell_type": "markdown",
   "id": "96695bf1",
   "metadata": {},
   "source": [
    "## Data Cleaning"
   ]
  },
  {
   "cell_type": "code",
   "execution_count": 392,
   "id": "63d5b7e8",
   "metadata": {},
   "outputs": [
    {
     "data": {
      "text/plain": [
       "calendar_day             0\n",
       "article                  0\n",
       "article_text             0\n",
       "sales_org                0\n",
       "sales_profit             0\n",
       "sales_profit_currency    0\n",
       "quantity                 0\n",
       "sales_excluding_tax      0\n",
       "cost                     0\n",
       "dtype: int64"
      ]
     },
     "execution_count": 392,
     "metadata": {},
     "output_type": "execute_result"
    }
   ],
   "source": [
    "df.isnull().sum()"
   ]
  },
  {
   "cell_type": "markdown",
   "id": "ab4808aa",
   "metadata": {},
   "source": [
    "## Convert 'calender_day' int to date time format."
   ]
  },
  {
   "cell_type": "code",
   "execution_count": 393,
   "id": "6811309d",
   "metadata": {},
   "outputs": [
    {
     "name": "stdout",
     "output_type": "stream",
     "text": [
      "<class 'pandas.core.frame.DataFrame'>\n",
      "RangeIndex: 2544735 entries, 0 to 2544734\n",
      "Data columns (total 9 columns):\n",
      " #   Column                 Dtype         \n",
      "---  ------                 -----         \n",
      " 0   calendar_day           datetime64[ns]\n",
      " 1   article                object        \n",
      " 2   article_text           object        \n",
      " 3   sales_org              int64         \n",
      " 4   sales_profit           float64       \n",
      " 5   sales_profit_currency  object        \n",
      " 6   quantity               float64       \n",
      " 7   sales_excluding_tax    float64       \n",
      " 8   cost                   float64       \n",
      "dtypes: datetime64[ns](1), float64(4), int64(1), object(3)\n",
      "memory usage: 174.7+ MB\n"
     ]
    }
   ],
   "source": [
    "df['calendar_day'] = pd.to_datetime(df['calendar_day'], format='%Y%m%d')\n",
    "df.info()"
   ]
  },
  {
   "cell_type": "code",
   "execution_count": 394,
   "id": "16acbf31",
   "metadata": {},
   "outputs": [
    {
     "data": {
      "text/plain": [
       "Timestamp('2020-01-01 00:00:00')"
      ]
     },
     "execution_count": 394,
     "metadata": {},
     "output_type": "execute_result"
    }
   ],
   "source": [
    "df['calendar_day'].min()"
   ]
  },
  {
   "cell_type": "code",
   "execution_count": 395,
   "id": "053d8c13",
   "metadata": {},
   "outputs": [
    {
     "data": {
      "text/plain": [
       "Timestamp('2021-11-05 00:00:00')"
      ]
     },
     "execution_count": 395,
     "metadata": {},
     "output_type": "execute_result"
    }
   ],
   "source": [
    "df['calendar_day'].max()"
   ]
  },
  {
   "cell_type": "markdown",
   "id": "f7815d0c",
   "metadata": {},
   "source": [
    "## Create a new column to store months."
   ]
  },
  {
   "cell_type": "code",
   "execution_count": 396,
   "id": "27f35988",
   "metadata": {},
   "outputs": [
    {
     "data": {
      "text/html": [
       "<div>\n",
       "<style scoped>\n",
       "    .dataframe tbody tr th:only-of-type {\n",
       "        vertical-align: middle;\n",
       "    }\n",
       "\n",
       "    .dataframe tbody tr th {\n",
       "        vertical-align: top;\n",
       "    }\n",
       "\n",
       "    .dataframe thead th {\n",
       "        text-align: right;\n",
       "    }\n",
       "</style>\n",
       "<table border=\"1\" class=\"dataframe\">\n",
       "  <thead>\n",
       "    <tr style=\"text-align: right;\">\n",
       "      <th></th>\n",
       "      <th>calendar_day</th>\n",
       "      <th>article</th>\n",
       "      <th>article_text</th>\n",
       "      <th>sales_org</th>\n",
       "      <th>sales_profit</th>\n",
       "      <th>sales_profit_currency</th>\n",
       "      <th>quantity</th>\n",
       "      <th>sales_excluding_tax</th>\n",
       "      <th>cost</th>\n",
       "      <th>month</th>\n",
       "    </tr>\n",
       "  </thead>\n",
       "  <tbody>\n",
       "    <tr>\n",
       "      <th>0</th>\n",
       "      <td>2021-01-08</td>\n",
       "      <td>000000000001646463</td>\n",
       "      <td>SHE Terry 105x200x40cm grey KRONBORG</td>\n",
       "      <td>1002</td>\n",
       "      <td>821.47</td>\n",
       "      <td>SEK</td>\n",
       "      <td>8.0</td>\n",
       "      <td>1184.0</td>\n",
       "      <td>362.53</td>\n",
       "      <td>1</td>\n",
       "    </tr>\n",
       "    <tr>\n",
       "      <th>1</th>\n",
       "      <td>2020-12-09</td>\n",
       "      <td>000000000003253632</td>\n",
       "      <td>MA 90x200cm PLUS B80 Grey-27 DREAMZONE</td>\n",
       "      <td>1002</td>\n",
       "      <td>12646.59</td>\n",
       "      <td>SEK</td>\n",
       "      <td>9.0</td>\n",
       "      <td>26160.0</td>\n",
       "      <td>13513.41</td>\n",
       "      <td>12</td>\n",
       "    </tr>\n",
       "    <tr>\n",
       "      <th>2</th>\n",
       "      <td>2021-04-27</td>\n",
       "      <td>000000000003250323</td>\n",
       "      <td>MA 80x200cm PLUS F65 DREAMZONE</td>\n",
       "      <td>1002</td>\n",
       "      <td>6262.78</td>\n",
       "      <td>SEK</td>\n",
       "      <td>12.0</td>\n",
       "      <td>11040.0</td>\n",
       "      <td>4777.22</td>\n",
       "      <td>4</td>\n",
       "    </tr>\n",
       "  </tbody>\n",
       "</table>\n",
       "</div>"
      ],
      "text/plain": [
       "  calendar_day             article                            article_text  \\\n",
       "0   2021-01-08  000000000001646463    SHE Terry 105x200x40cm grey KRONBORG   \n",
       "1   2020-12-09  000000000003253632  MA 90x200cm PLUS B80 Grey-27 DREAMZONE   \n",
       "2   2021-04-27  000000000003250323          MA 80x200cm PLUS F65 DREAMZONE   \n",
       "\n",
       "   sales_org  sales_profit sales_profit_currency  quantity  \\\n",
       "0       1002        821.47                   SEK       8.0   \n",
       "1       1002      12646.59                   SEK       9.0   \n",
       "2       1002       6262.78                   SEK      12.0   \n",
       "\n",
       "   sales_excluding_tax      cost  month  \n",
       "0               1184.0    362.53      1  \n",
       "1              26160.0  13513.41     12  \n",
       "2              11040.0   4777.22      4  "
      ]
     },
     "execution_count": 396,
     "metadata": {},
     "output_type": "execute_result"
    }
   ],
   "source": [
    "df['month'] = df['calendar_day'].dt.month\n",
    "df.head(3)"
   ]
  },
  {
   "cell_type": "markdown",
   "id": "b563d3fe",
   "metadata": {},
   "source": [
    "## New Dataset for Monthly Sales"
   ]
  },
  {
   "cell_type": "code",
   "execution_count": 397,
   "id": "c217bd4d",
   "metadata": {
    "scrolled": true
   },
   "outputs": [
    {
     "data": {
      "text/html": [
       "<div>\n",
       "<style scoped>\n",
       "    .dataframe tbody tr th:only-of-type {\n",
       "        vertical-align: middle;\n",
       "    }\n",
       "\n",
       "    .dataframe tbody tr th {\n",
       "        vertical-align: top;\n",
       "    }\n",
       "\n",
       "    .dataframe thead th {\n",
       "        text-align: right;\n",
       "    }\n",
       "</style>\n",
       "<table border=\"1\" class=\"dataframe\">\n",
       "  <thead>\n",
       "    <tr style=\"text-align: right;\">\n",
       "      <th></th>\n",
       "      <th>article_text</th>\n",
       "      <th>sales_profit</th>\n",
       "      <th>quantity</th>\n",
       "      <th>sales_excluding_tax</th>\n",
       "      <th>month</th>\n",
       "    </tr>\n",
       "  </thead>\n",
       "  <tbody>\n",
       "    <tr>\n",
       "      <th>0</th>\n",
       "      <td>SHE Terry 105x200x40cm grey KRONBORG</td>\n",
       "      <td>821.47</td>\n",
       "      <td>8.0</td>\n",
       "      <td>1184.0</td>\n",
       "      <td>1</td>\n",
       "    </tr>\n",
       "    <tr>\n",
       "      <th>1</th>\n",
       "      <td>MA 90x200cm PLUS B80 Grey-27 DREAMZONE</td>\n",
       "      <td>12646.59</td>\n",
       "      <td>9.0</td>\n",
       "      <td>26160.0</td>\n",
       "      <td>12</td>\n",
       "    </tr>\n",
       "    <tr>\n",
       "      <th>2</th>\n",
       "      <td>MA 80x200cm PLUS F65 DREAMZONE</td>\n",
       "      <td>6262.78</td>\n",
       "      <td>12.0</td>\n",
       "      <td>11040.0</td>\n",
       "      <td>4</td>\n",
       "    </tr>\n",
       "    <tr>\n",
       "      <th>3</th>\n",
       "      <td>BM FAGERSTA 70x120cm black</td>\n",
       "      <td>36.16</td>\n",
       "      <td>1.0</td>\n",
       "      <td>80.0</td>\n",
       "      <td>7</td>\n",
       "    </tr>\n",
       "    <tr>\n",
       "      <th>4</th>\n",
       "      <td>Storage box SMARTSTORE classic 45 w/lid</td>\n",
       "      <td>5253.41</td>\n",
       "      <td>82.0</td>\n",
       "      <td>9734.4</td>\n",
       "      <td>6</td>\n",
       "    </tr>\n",
       "  </tbody>\n",
       "</table>\n",
       "</div>"
      ],
      "text/plain": [
       "                              article_text  sales_profit  quantity  \\\n",
       "0     SHE Terry 105x200x40cm grey KRONBORG        821.47       8.0   \n",
       "1   MA 90x200cm PLUS B80 Grey-27 DREAMZONE      12646.59       9.0   \n",
       "2           MA 80x200cm PLUS F65 DREAMZONE       6262.78      12.0   \n",
       "3               BM FAGERSTA 70x120cm black         36.16       1.0   \n",
       "4  Storage box SMARTSTORE classic 45 w/lid       5253.41      82.0   \n",
       "\n",
       "   sales_excluding_tax  month  \n",
       "0               1184.0      1  \n",
       "1              26160.0     12  \n",
       "2              11040.0      4  \n",
       "3                 80.0      7  \n",
       "4               9734.4      6  "
      ]
     },
     "execution_count": 397,
     "metadata": {},
     "output_type": "execute_result"
    }
   ],
   "source": [
    "monthly_sales = df[['article_text','sales_profit',\n",
    "       'quantity', 'sales_excluding_tax','month']]\n",
    "monthly_sales.head()"
   ]
  },
  {
   "cell_type": "code",
   "execution_count": 398,
   "id": "0567ffed",
   "metadata": {
    "scrolled": true
   },
   "outputs": [
    {
     "data": {
      "text/plain": [
       "<AxesSubplot:xlabel='article_text', ylabel='sales_profit'>"
      ]
     },
     "execution_count": 398,
     "metadata": {},
     "output_type": "execute_result"
    },
    {
     "name": "stderr",
     "output_type": "stream",
     "text": [
      "C:\\Users\\pralo\\anaconda3\\lib\\site-packages\\matplotlib\\backends\\backend_agg.py:240: RuntimeWarning: Glyph 153 missing from current font.\n",
      "  font.set_text(s, 0.0, flags=flags)\n"
     ]
    },
    {
     "name": "stdout",
     "output_type": "stream",
     "text": [
      "Error in callback <function flush_figures at 0x000002DD136C6AF0> (for post_execute):\n"
     ]
    },
    {
     "ename": "KeyboardInterrupt",
     "evalue": "",
     "output_type": "error",
     "traceback": [
      "\u001b[1;31m---------------------------------------------------------------------------\u001b[0m",
      "\u001b[1;31mKeyboardInterrupt\u001b[0m                         Traceback (most recent call last)",
      "\u001b[1;32m~\\anaconda3\\lib\\site-packages\\matplotlib_inline\\backend_inline.py\u001b[0m in \u001b[0;36mflush_figures\u001b[1;34m()\u001b[0m\n\u001b[0;32m    119\u001b[0m         \u001b[1;31m# ignore the tracking, just draw and close all figures\u001b[0m\u001b[1;33m\u001b[0m\u001b[1;33m\u001b[0m\u001b[0m\n\u001b[0;32m    120\u001b[0m         \u001b[1;32mtry\u001b[0m\u001b[1;33m:\u001b[0m\u001b[1;33m\u001b[0m\u001b[1;33m\u001b[0m\u001b[0m\n\u001b[1;32m--> 121\u001b[1;33m             \u001b[1;32mreturn\u001b[0m \u001b[0mshow\u001b[0m\u001b[1;33m(\u001b[0m\u001b[1;32mTrue\u001b[0m\u001b[1;33m)\u001b[0m\u001b[1;33m\u001b[0m\u001b[1;33m\u001b[0m\u001b[0m\n\u001b[0m\u001b[0;32m    122\u001b[0m         \u001b[1;32mexcept\u001b[0m \u001b[0mException\u001b[0m \u001b[1;32mas\u001b[0m \u001b[0me\u001b[0m\u001b[1;33m:\u001b[0m\u001b[1;33m\u001b[0m\u001b[1;33m\u001b[0m\u001b[0m\n\u001b[0;32m    123\u001b[0m             \u001b[1;31m# safely show traceback if in IPython, else raise\u001b[0m\u001b[1;33m\u001b[0m\u001b[1;33m\u001b[0m\u001b[0m\n",
      "\u001b[1;32m~\\anaconda3\\lib\\site-packages\\matplotlib_inline\\backend_inline.py\u001b[0m in \u001b[0;36mshow\u001b[1;34m(close, block)\u001b[0m\n\u001b[0;32m     39\u001b[0m     \u001b[1;32mtry\u001b[0m\u001b[1;33m:\u001b[0m\u001b[1;33m\u001b[0m\u001b[1;33m\u001b[0m\u001b[0m\n\u001b[0;32m     40\u001b[0m         \u001b[1;32mfor\u001b[0m \u001b[0mfigure_manager\u001b[0m \u001b[1;32min\u001b[0m \u001b[0mGcf\u001b[0m\u001b[1;33m.\u001b[0m\u001b[0mget_all_fig_managers\u001b[0m\u001b[1;33m(\u001b[0m\u001b[1;33m)\u001b[0m\u001b[1;33m:\u001b[0m\u001b[1;33m\u001b[0m\u001b[1;33m\u001b[0m\u001b[0m\n\u001b[1;32m---> 41\u001b[1;33m             display(\n\u001b[0m\u001b[0;32m     42\u001b[0m                 \u001b[0mfigure_manager\u001b[0m\u001b[1;33m.\u001b[0m\u001b[0mcanvas\u001b[0m\u001b[1;33m.\u001b[0m\u001b[0mfigure\u001b[0m\u001b[1;33m,\u001b[0m\u001b[1;33m\u001b[0m\u001b[1;33m\u001b[0m\u001b[0m\n\u001b[0;32m     43\u001b[0m                 \u001b[0mmetadata\u001b[0m\u001b[1;33m=\u001b[0m\u001b[0m_fetch_figure_metadata\u001b[0m\u001b[1;33m(\u001b[0m\u001b[0mfigure_manager\u001b[0m\u001b[1;33m.\u001b[0m\u001b[0mcanvas\u001b[0m\u001b[1;33m.\u001b[0m\u001b[0mfigure\u001b[0m\u001b[1;33m)\u001b[0m\u001b[1;33m\u001b[0m\u001b[1;33m\u001b[0m\u001b[0m\n",
      "\u001b[1;32m~\\anaconda3\\lib\\site-packages\\IPython\\core\\display.py\u001b[0m in \u001b[0;36mdisplay\u001b[1;34m(include, exclude, metadata, transient, display_id, *objs, **kwargs)\u001b[0m\n\u001b[0;32m    318\u001b[0m             \u001b[0mpublish_display_data\u001b[0m\u001b[1;33m(\u001b[0m\u001b[0mdata\u001b[0m\u001b[1;33m=\u001b[0m\u001b[0mobj\u001b[0m\u001b[1;33m,\u001b[0m \u001b[0mmetadata\u001b[0m\u001b[1;33m=\u001b[0m\u001b[0mmetadata\u001b[0m\u001b[1;33m,\u001b[0m \u001b[1;33m**\u001b[0m\u001b[0mkwargs\u001b[0m\u001b[1;33m)\u001b[0m\u001b[1;33m\u001b[0m\u001b[1;33m\u001b[0m\u001b[0m\n\u001b[0;32m    319\u001b[0m         \u001b[1;32melse\u001b[0m\u001b[1;33m:\u001b[0m\u001b[1;33m\u001b[0m\u001b[1;33m\u001b[0m\u001b[0m\n\u001b[1;32m--> 320\u001b[1;33m             \u001b[0mformat_dict\u001b[0m\u001b[1;33m,\u001b[0m \u001b[0mmd_dict\u001b[0m \u001b[1;33m=\u001b[0m \u001b[0mformat\u001b[0m\u001b[1;33m(\u001b[0m\u001b[0mobj\u001b[0m\u001b[1;33m,\u001b[0m \u001b[0minclude\u001b[0m\u001b[1;33m=\u001b[0m\u001b[0minclude\u001b[0m\u001b[1;33m,\u001b[0m \u001b[0mexclude\u001b[0m\u001b[1;33m=\u001b[0m\u001b[0mexclude\u001b[0m\u001b[1;33m)\u001b[0m\u001b[1;33m\u001b[0m\u001b[1;33m\u001b[0m\u001b[0m\n\u001b[0m\u001b[0;32m    321\u001b[0m             \u001b[1;32mif\u001b[0m \u001b[1;32mnot\u001b[0m \u001b[0mformat_dict\u001b[0m\u001b[1;33m:\u001b[0m\u001b[1;33m\u001b[0m\u001b[1;33m\u001b[0m\u001b[0m\n\u001b[0;32m    322\u001b[0m                 \u001b[1;31m# nothing to display (e.g. _ipython_display_ took over)\u001b[0m\u001b[1;33m\u001b[0m\u001b[1;33m\u001b[0m\u001b[0m\n",
      "\u001b[1;32m~\\anaconda3\\lib\\site-packages\\IPython\\core\\formatters.py\u001b[0m in \u001b[0;36mformat\u001b[1;34m(self, obj, include, exclude)\u001b[0m\n\u001b[0;32m    178\u001b[0m             \u001b[0mmd\u001b[0m \u001b[1;33m=\u001b[0m \u001b[1;32mNone\u001b[0m\u001b[1;33m\u001b[0m\u001b[1;33m\u001b[0m\u001b[0m\n\u001b[0;32m    179\u001b[0m             \u001b[1;32mtry\u001b[0m\u001b[1;33m:\u001b[0m\u001b[1;33m\u001b[0m\u001b[1;33m\u001b[0m\u001b[0m\n\u001b[1;32m--> 180\u001b[1;33m                 \u001b[0mdata\u001b[0m \u001b[1;33m=\u001b[0m \u001b[0mformatter\u001b[0m\u001b[1;33m(\u001b[0m\u001b[0mobj\u001b[0m\u001b[1;33m)\u001b[0m\u001b[1;33m\u001b[0m\u001b[1;33m\u001b[0m\u001b[0m\n\u001b[0m\u001b[0;32m    181\u001b[0m             \u001b[1;32mexcept\u001b[0m\u001b[1;33m:\u001b[0m\u001b[1;33m\u001b[0m\u001b[1;33m\u001b[0m\u001b[0m\n\u001b[0;32m    182\u001b[0m                 \u001b[1;31m# FIXME: log the exception\u001b[0m\u001b[1;33m\u001b[0m\u001b[1;33m\u001b[0m\u001b[0m\n",
      "\u001b[1;32m~\\anaconda3\\lib\\site-packages\\decorator.py\u001b[0m in \u001b[0;36mfun\u001b[1;34m(*args, **kw)\u001b[0m\n\u001b[0;32m    230\u001b[0m             \u001b[1;32mif\u001b[0m \u001b[1;32mnot\u001b[0m \u001b[0mkwsyntax\u001b[0m\u001b[1;33m:\u001b[0m\u001b[1;33m\u001b[0m\u001b[1;33m\u001b[0m\u001b[0m\n\u001b[0;32m    231\u001b[0m                 \u001b[0margs\u001b[0m\u001b[1;33m,\u001b[0m \u001b[0mkw\u001b[0m \u001b[1;33m=\u001b[0m \u001b[0mfix\u001b[0m\u001b[1;33m(\u001b[0m\u001b[0margs\u001b[0m\u001b[1;33m,\u001b[0m \u001b[0mkw\u001b[0m\u001b[1;33m,\u001b[0m \u001b[0msig\u001b[0m\u001b[1;33m)\u001b[0m\u001b[1;33m\u001b[0m\u001b[1;33m\u001b[0m\u001b[0m\n\u001b[1;32m--> 232\u001b[1;33m             \u001b[1;32mreturn\u001b[0m \u001b[0mcaller\u001b[0m\u001b[1;33m(\u001b[0m\u001b[0mfunc\u001b[0m\u001b[1;33m,\u001b[0m \u001b[1;33m*\u001b[0m\u001b[1;33m(\u001b[0m\u001b[0mextras\u001b[0m \u001b[1;33m+\u001b[0m \u001b[0margs\u001b[0m\u001b[1;33m)\u001b[0m\u001b[1;33m,\u001b[0m \u001b[1;33m**\u001b[0m\u001b[0mkw\u001b[0m\u001b[1;33m)\u001b[0m\u001b[1;33m\u001b[0m\u001b[1;33m\u001b[0m\u001b[0m\n\u001b[0m\u001b[0;32m    233\u001b[0m     \u001b[0mfun\u001b[0m\u001b[1;33m.\u001b[0m\u001b[0m__name__\u001b[0m \u001b[1;33m=\u001b[0m \u001b[0mfunc\u001b[0m\u001b[1;33m.\u001b[0m\u001b[0m__name__\u001b[0m\u001b[1;33m\u001b[0m\u001b[1;33m\u001b[0m\u001b[0m\n\u001b[0;32m    234\u001b[0m     \u001b[0mfun\u001b[0m\u001b[1;33m.\u001b[0m\u001b[0m__doc__\u001b[0m \u001b[1;33m=\u001b[0m \u001b[0mfunc\u001b[0m\u001b[1;33m.\u001b[0m\u001b[0m__doc__\u001b[0m\u001b[1;33m\u001b[0m\u001b[1;33m\u001b[0m\u001b[0m\n",
      "\u001b[1;32m~\\anaconda3\\lib\\site-packages\\IPython\\core\\formatters.py\u001b[0m in \u001b[0;36mcatch_format_error\u001b[1;34m(method, self, *args, **kwargs)\u001b[0m\n\u001b[0;32m    222\u001b[0m     \u001b[1;34m\"\"\"show traceback on failed format call\"\"\"\u001b[0m\u001b[1;33m\u001b[0m\u001b[1;33m\u001b[0m\u001b[0m\n\u001b[0;32m    223\u001b[0m     \u001b[1;32mtry\u001b[0m\u001b[1;33m:\u001b[0m\u001b[1;33m\u001b[0m\u001b[1;33m\u001b[0m\u001b[0m\n\u001b[1;32m--> 224\u001b[1;33m         \u001b[0mr\u001b[0m \u001b[1;33m=\u001b[0m \u001b[0mmethod\u001b[0m\u001b[1;33m(\u001b[0m\u001b[0mself\u001b[0m\u001b[1;33m,\u001b[0m \u001b[1;33m*\u001b[0m\u001b[0margs\u001b[0m\u001b[1;33m,\u001b[0m \u001b[1;33m**\u001b[0m\u001b[0mkwargs\u001b[0m\u001b[1;33m)\u001b[0m\u001b[1;33m\u001b[0m\u001b[1;33m\u001b[0m\u001b[0m\n\u001b[0m\u001b[0;32m    225\u001b[0m     \u001b[1;32mexcept\u001b[0m \u001b[0mNotImplementedError\u001b[0m\u001b[1;33m:\u001b[0m\u001b[1;33m\u001b[0m\u001b[1;33m\u001b[0m\u001b[0m\n\u001b[0;32m    226\u001b[0m         \u001b[1;31m# don't warn on NotImplementedErrors\u001b[0m\u001b[1;33m\u001b[0m\u001b[1;33m\u001b[0m\u001b[0m\n",
      "\u001b[1;32m~\\anaconda3\\lib\\site-packages\\IPython\\core\\formatters.py\u001b[0m in \u001b[0;36m__call__\u001b[1;34m(self, obj)\u001b[0m\n\u001b[0;32m    339\u001b[0m                 \u001b[1;32mpass\u001b[0m\u001b[1;33m\u001b[0m\u001b[1;33m\u001b[0m\u001b[0m\n\u001b[0;32m    340\u001b[0m             \u001b[1;32melse\u001b[0m\u001b[1;33m:\u001b[0m\u001b[1;33m\u001b[0m\u001b[1;33m\u001b[0m\u001b[0m\n\u001b[1;32m--> 341\u001b[1;33m                 \u001b[1;32mreturn\u001b[0m \u001b[0mprinter\u001b[0m\u001b[1;33m(\u001b[0m\u001b[0mobj\u001b[0m\u001b[1;33m)\u001b[0m\u001b[1;33m\u001b[0m\u001b[1;33m\u001b[0m\u001b[0m\n\u001b[0m\u001b[0;32m    342\u001b[0m             \u001b[1;31m# Finally look for special method names\u001b[0m\u001b[1;33m\u001b[0m\u001b[1;33m\u001b[0m\u001b[0m\n\u001b[0;32m    343\u001b[0m             \u001b[0mmethod\u001b[0m \u001b[1;33m=\u001b[0m \u001b[0mget_real_method\u001b[0m\u001b[1;33m(\u001b[0m\u001b[0mobj\u001b[0m\u001b[1;33m,\u001b[0m \u001b[0mself\u001b[0m\u001b[1;33m.\u001b[0m\u001b[0mprint_method\u001b[0m\u001b[1;33m)\u001b[0m\u001b[1;33m\u001b[0m\u001b[1;33m\u001b[0m\u001b[0m\n",
      "\u001b[1;32m~\\anaconda3\\lib\\site-packages\\IPython\\core\\pylabtools.py\u001b[0m in \u001b[0;36mprint_figure\u001b[1;34m(fig, fmt, bbox_inches, base64, **kwargs)\u001b[0m\n\u001b[0;32m    149\u001b[0m         \u001b[0mFigureCanvasBase\u001b[0m\u001b[1;33m(\u001b[0m\u001b[0mfig\u001b[0m\u001b[1;33m)\u001b[0m\u001b[1;33m\u001b[0m\u001b[1;33m\u001b[0m\u001b[0m\n\u001b[0;32m    150\u001b[0m \u001b[1;33m\u001b[0m\u001b[0m\n\u001b[1;32m--> 151\u001b[1;33m     \u001b[0mfig\u001b[0m\u001b[1;33m.\u001b[0m\u001b[0mcanvas\u001b[0m\u001b[1;33m.\u001b[0m\u001b[0mprint_figure\u001b[0m\u001b[1;33m(\u001b[0m\u001b[0mbytes_io\u001b[0m\u001b[1;33m,\u001b[0m \u001b[1;33m**\u001b[0m\u001b[0mkw\u001b[0m\u001b[1;33m)\u001b[0m\u001b[1;33m\u001b[0m\u001b[1;33m\u001b[0m\u001b[0m\n\u001b[0m\u001b[0;32m    152\u001b[0m     \u001b[0mdata\u001b[0m \u001b[1;33m=\u001b[0m \u001b[0mbytes_io\u001b[0m\u001b[1;33m.\u001b[0m\u001b[0mgetvalue\u001b[0m\u001b[1;33m(\u001b[0m\u001b[1;33m)\u001b[0m\u001b[1;33m\u001b[0m\u001b[1;33m\u001b[0m\u001b[0m\n\u001b[0;32m    153\u001b[0m     \u001b[1;32mif\u001b[0m \u001b[0mfmt\u001b[0m \u001b[1;33m==\u001b[0m \u001b[1;34m'svg'\u001b[0m\u001b[1;33m:\u001b[0m\u001b[1;33m\u001b[0m\u001b[1;33m\u001b[0m\u001b[0m\n",
      "\u001b[1;32m~\\anaconda3\\lib\\site-packages\\matplotlib\\backend_bases.py\u001b[0m in \u001b[0;36mprint_figure\u001b[1;34m(self, filename, dpi, facecolor, edgecolor, orientation, format, bbox_inches, pad_inches, bbox_extra_artists, backend, **kwargs)\u001b[0m\n\u001b[0;32m   2228\u001b[0m                        else suppress())\n\u001b[0;32m   2229\u001b[0m                 \u001b[1;32mwith\u001b[0m \u001b[0mctx\u001b[0m\u001b[1;33m:\u001b[0m\u001b[1;33m\u001b[0m\u001b[1;33m\u001b[0m\u001b[0m\n\u001b[1;32m-> 2230\u001b[1;33m                     \u001b[0mself\u001b[0m\u001b[1;33m.\u001b[0m\u001b[0mfigure\u001b[0m\u001b[1;33m.\u001b[0m\u001b[0mdraw\u001b[0m\u001b[1;33m(\u001b[0m\u001b[0mrenderer\u001b[0m\u001b[1;33m)\u001b[0m\u001b[1;33m\u001b[0m\u001b[1;33m\u001b[0m\u001b[0m\n\u001b[0m\u001b[0;32m   2231\u001b[0m \u001b[1;33m\u001b[0m\u001b[0m\n\u001b[0;32m   2232\u001b[0m             \u001b[1;32mif\u001b[0m \u001b[0mbbox_inches\u001b[0m\u001b[1;33m:\u001b[0m\u001b[1;33m\u001b[0m\u001b[1;33m\u001b[0m\u001b[0m\n",
      "\u001b[1;32m~\\anaconda3\\lib\\site-packages\\matplotlib\\artist.py\u001b[0m in \u001b[0;36mdraw_wrapper\u001b[1;34m(artist, renderer, *args, **kwargs)\u001b[0m\n\u001b[0;32m     72\u001b[0m     \u001b[1;33m@\u001b[0m\u001b[0mwraps\u001b[0m\u001b[1;33m(\u001b[0m\u001b[0mdraw\u001b[0m\u001b[1;33m)\u001b[0m\u001b[1;33m\u001b[0m\u001b[1;33m\u001b[0m\u001b[0m\n\u001b[0;32m     73\u001b[0m     \u001b[1;32mdef\u001b[0m \u001b[0mdraw_wrapper\u001b[0m\u001b[1;33m(\u001b[0m\u001b[0martist\u001b[0m\u001b[1;33m,\u001b[0m \u001b[0mrenderer\u001b[0m\u001b[1;33m,\u001b[0m \u001b[1;33m*\u001b[0m\u001b[0margs\u001b[0m\u001b[1;33m,\u001b[0m \u001b[1;33m**\u001b[0m\u001b[0mkwargs\u001b[0m\u001b[1;33m)\u001b[0m\u001b[1;33m:\u001b[0m\u001b[1;33m\u001b[0m\u001b[1;33m\u001b[0m\u001b[0m\n\u001b[1;32m---> 74\u001b[1;33m         \u001b[0mresult\u001b[0m \u001b[1;33m=\u001b[0m \u001b[0mdraw\u001b[0m\u001b[1;33m(\u001b[0m\u001b[0martist\u001b[0m\u001b[1;33m,\u001b[0m \u001b[0mrenderer\u001b[0m\u001b[1;33m,\u001b[0m \u001b[1;33m*\u001b[0m\u001b[0margs\u001b[0m\u001b[1;33m,\u001b[0m \u001b[1;33m**\u001b[0m\u001b[0mkwargs\u001b[0m\u001b[1;33m)\u001b[0m\u001b[1;33m\u001b[0m\u001b[1;33m\u001b[0m\u001b[0m\n\u001b[0m\u001b[0;32m     75\u001b[0m         \u001b[1;32mif\u001b[0m \u001b[0mrenderer\u001b[0m\u001b[1;33m.\u001b[0m\u001b[0m_rasterizing\u001b[0m\u001b[1;33m:\u001b[0m\u001b[1;33m\u001b[0m\u001b[1;33m\u001b[0m\u001b[0m\n\u001b[0;32m     76\u001b[0m             \u001b[0mrenderer\u001b[0m\u001b[1;33m.\u001b[0m\u001b[0mstop_rasterizing\u001b[0m\u001b[1;33m(\u001b[0m\u001b[1;33m)\u001b[0m\u001b[1;33m\u001b[0m\u001b[1;33m\u001b[0m\u001b[0m\n",
      "\u001b[1;32m~\\anaconda3\\lib\\site-packages\\matplotlib\\artist.py\u001b[0m in \u001b[0;36mdraw_wrapper\u001b[1;34m(artist, renderer, *args, **kwargs)\u001b[0m\n\u001b[0;32m     49\u001b[0m                 \u001b[0mrenderer\u001b[0m\u001b[1;33m.\u001b[0m\u001b[0mstart_filter\u001b[0m\u001b[1;33m(\u001b[0m\u001b[1;33m)\u001b[0m\u001b[1;33m\u001b[0m\u001b[1;33m\u001b[0m\u001b[0m\n\u001b[0;32m     50\u001b[0m \u001b[1;33m\u001b[0m\u001b[0m\n\u001b[1;32m---> 51\u001b[1;33m             \u001b[1;32mreturn\u001b[0m \u001b[0mdraw\u001b[0m\u001b[1;33m(\u001b[0m\u001b[0martist\u001b[0m\u001b[1;33m,\u001b[0m \u001b[0mrenderer\u001b[0m\u001b[1;33m,\u001b[0m \u001b[1;33m*\u001b[0m\u001b[0margs\u001b[0m\u001b[1;33m,\u001b[0m \u001b[1;33m**\u001b[0m\u001b[0mkwargs\u001b[0m\u001b[1;33m)\u001b[0m\u001b[1;33m\u001b[0m\u001b[1;33m\u001b[0m\u001b[0m\n\u001b[0m\u001b[0;32m     52\u001b[0m         \u001b[1;32mfinally\u001b[0m\u001b[1;33m:\u001b[0m\u001b[1;33m\u001b[0m\u001b[1;33m\u001b[0m\u001b[0m\n\u001b[0;32m     53\u001b[0m             \u001b[1;32mif\u001b[0m \u001b[0martist\u001b[0m\u001b[1;33m.\u001b[0m\u001b[0mget_agg_filter\u001b[0m\u001b[1;33m(\u001b[0m\u001b[1;33m)\u001b[0m \u001b[1;32mis\u001b[0m \u001b[1;32mnot\u001b[0m \u001b[1;32mNone\u001b[0m\u001b[1;33m:\u001b[0m\u001b[1;33m\u001b[0m\u001b[1;33m\u001b[0m\u001b[0m\n",
      "\u001b[1;32m~\\anaconda3\\lib\\site-packages\\matplotlib\\figure.py\u001b[0m in \u001b[0;36mdraw\u001b[1;34m(self, renderer)\u001b[0m\n\u001b[0;32m   2788\u001b[0m \u001b[1;33m\u001b[0m\u001b[0m\n\u001b[0;32m   2789\u001b[0m             \u001b[0mself\u001b[0m\u001b[1;33m.\u001b[0m\u001b[0mpatch\u001b[0m\u001b[1;33m.\u001b[0m\u001b[0mdraw\u001b[0m\u001b[1;33m(\u001b[0m\u001b[0mrenderer\u001b[0m\u001b[1;33m)\u001b[0m\u001b[1;33m\u001b[0m\u001b[1;33m\u001b[0m\u001b[0m\n\u001b[1;32m-> 2790\u001b[1;33m             mimage._draw_list_compositing_images(\n\u001b[0m\u001b[0;32m   2791\u001b[0m                 renderer, self, artists, self.suppressComposite)\n\u001b[0;32m   2792\u001b[0m \u001b[1;33m\u001b[0m\u001b[0m\n",
      "\u001b[1;32m~\\anaconda3\\lib\\site-packages\\matplotlib\\image.py\u001b[0m in \u001b[0;36m_draw_list_compositing_images\u001b[1;34m(renderer, parent, artists, suppress_composite)\u001b[0m\n\u001b[0;32m    130\u001b[0m     \u001b[1;32mif\u001b[0m \u001b[0mnot_composite\u001b[0m \u001b[1;32mor\u001b[0m \u001b[1;32mnot\u001b[0m \u001b[0mhas_images\u001b[0m\u001b[1;33m:\u001b[0m\u001b[1;33m\u001b[0m\u001b[1;33m\u001b[0m\u001b[0m\n\u001b[0;32m    131\u001b[0m         \u001b[1;32mfor\u001b[0m \u001b[0ma\u001b[0m \u001b[1;32min\u001b[0m \u001b[0martists\u001b[0m\u001b[1;33m:\u001b[0m\u001b[1;33m\u001b[0m\u001b[1;33m\u001b[0m\u001b[0m\n\u001b[1;32m--> 132\u001b[1;33m             \u001b[0ma\u001b[0m\u001b[1;33m.\u001b[0m\u001b[0mdraw\u001b[0m\u001b[1;33m(\u001b[0m\u001b[0mrenderer\u001b[0m\u001b[1;33m)\u001b[0m\u001b[1;33m\u001b[0m\u001b[1;33m\u001b[0m\u001b[0m\n\u001b[0m\u001b[0;32m    133\u001b[0m     \u001b[1;32melse\u001b[0m\u001b[1;33m:\u001b[0m\u001b[1;33m\u001b[0m\u001b[1;33m\u001b[0m\u001b[0m\n\u001b[0;32m    134\u001b[0m         \u001b[1;31m# Composite any adjacent images together\u001b[0m\u001b[1;33m\u001b[0m\u001b[1;33m\u001b[0m\u001b[0m\n",
      "\u001b[1;32m~\\anaconda3\\lib\\site-packages\\matplotlib\\artist.py\u001b[0m in \u001b[0;36mdraw_wrapper\u001b[1;34m(artist, renderer, *args, **kwargs)\u001b[0m\n\u001b[0;32m     49\u001b[0m                 \u001b[0mrenderer\u001b[0m\u001b[1;33m.\u001b[0m\u001b[0mstart_filter\u001b[0m\u001b[1;33m(\u001b[0m\u001b[1;33m)\u001b[0m\u001b[1;33m\u001b[0m\u001b[1;33m\u001b[0m\u001b[0m\n\u001b[0;32m     50\u001b[0m \u001b[1;33m\u001b[0m\u001b[0m\n\u001b[1;32m---> 51\u001b[1;33m             \u001b[1;32mreturn\u001b[0m \u001b[0mdraw\u001b[0m\u001b[1;33m(\u001b[0m\u001b[0martist\u001b[0m\u001b[1;33m,\u001b[0m \u001b[0mrenderer\u001b[0m\u001b[1;33m,\u001b[0m \u001b[1;33m*\u001b[0m\u001b[0margs\u001b[0m\u001b[1;33m,\u001b[0m \u001b[1;33m**\u001b[0m\u001b[0mkwargs\u001b[0m\u001b[1;33m)\u001b[0m\u001b[1;33m\u001b[0m\u001b[1;33m\u001b[0m\u001b[0m\n\u001b[0m\u001b[0;32m     52\u001b[0m         \u001b[1;32mfinally\u001b[0m\u001b[1;33m:\u001b[0m\u001b[1;33m\u001b[0m\u001b[1;33m\u001b[0m\u001b[0m\n\u001b[0;32m     53\u001b[0m             \u001b[1;32mif\u001b[0m \u001b[0martist\u001b[0m\u001b[1;33m.\u001b[0m\u001b[0mget_agg_filter\u001b[0m\u001b[1;33m(\u001b[0m\u001b[1;33m)\u001b[0m \u001b[1;32mis\u001b[0m \u001b[1;32mnot\u001b[0m \u001b[1;32mNone\u001b[0m\u001b[1;33m:\u001b[0m\u001b[1;33m\u001b[0m\u001b[1;33m\u001b[0m\u001b[0m\n",
      "\u001b[1;32m~\\anaconda3\\lib\\site-packages\\matplotlib\\_api\\deprecation.py\u001b[0m in \u001b[0;36mwrapper\u001b[1;34m(*inner_args, **inner_kwargs)\u001b[0m\n\u001b[0;32m    429\u001b[0m                          \u001b[1;32melse\u001b[0m \u001b[0mdeprecation_addendum\u001b[0m\u001b[1;33m,\u001b[0m\u001b[1;33m\u001b[0m\u001b[1;33m\u001b[0m\u001b[0m\n\u001b[0;32m    430\u001b[0m                 **kwargs)\n\u001b[1;32m--> 431\u001b[1;33m         \u001b[1;32mreturn\u001b[0m \u001b[0mfunc\u001b[0m\u001b[1;33m(\u001b[0m\u001b[1;33m*\u001b[0m\u001b[0minner_args\u001b[0m\u001b[1;33m,\u001b[0m \u001b[1;33m**\u001b[0m\u001b[0minner_kwargs\u001b[0m\u001b[1;33m)\u001b[0m\u001b[1;33m\u001b[0m\u001b[1;33m\u001b[0m\u001b[0m\n\u001b[0m\u001b[0;32m    432\u001b[0m \u001b[1;33m\u001b[0m\u001b[0m\n\u001b[0;32m    433\u001b[0m     \u001b[1;32mreturn\u001b[0m \u001b[0mwrapper\u001b[0m\u001b[1;33m\u001b[0m\u001b[1;33m\u001b[0m\u001b[0m\n",
      "\u001b[1;32m~\\anaconda3\\lib\\site-packages\\matplotlib\\axes\\_base.py\u001b[0m in \u001b[0;36mdraw\u001b[1;34m(self, renderer, inframe)\u001b[0m\n\u001b[0;32m   2919\u001b[0m             \u001b[0mrenderer\u001b[0m\u001b[1;33m.\u001b[0m\u001b[0mstop_rasterizing\u001b[0m\u001b[1;33m(\u001b[0m\u001b[1;33m)\u001b[0m\u001b[1;33m\u001b[0m\u001b[1;33m\u001b[0m\u001b[0m\n\u001b[0;32m   2920\u001b[0m \u001b[1;33m\u001b[0m\u001b[0m\n\u001b[1;32m-> 2921\u001b[1;33m         \u001b[0mmimage\u001b[0m\u001b[1;33m.\u001b[0m\u001b[0m_draw_list_compositing_images\u001b[0m\u001b[1;33m(\u001b[0m\u001b[0mrenderer\u001b[0m\u001b[1;33m,\u001b[0m \u001b[0mself\u001b[0m\u001b[1;33m,\u001b[0m \u001b[0martists\u001b[0m\u001b[1;33m)\u001b[0m\u001b[1;33m\u001b[0m\u001b[1;33m\u001b[0m\u001b[0m\n\u001b[0m\u001b[0;32m   2922\u001b[0m \u001b[1;33m\u001b[0m\u001b[0m\n\u001b[0;32m   2923\u001b[0m         \u001b[0mrenderer\u001b[0m\u001b[1;33m.\u001b[0m\u001b[0mclose_group\u001b[0m\u001b[1;33m(\u001b[0m\u001b[1;34m'axes'\u001b[0m\u001b[1;33m)\u001b[0m\u001b[1;33m\u001b[0m\u001b[1;33m\u001b[0m\u001b[0m\n",
      "\u001b[1;32m~\\anaconda3\\lib\\site-packages\\matplotlib\\image.py\u001b[0m in \u001b[0;36m_draw_list_compositing_images\u001b[1;34m(renderer, parent, artists, suppress_composite)\u001b[0m\n\u001b[0;32m    130\u001b[0m     \u001b[1;32mif\u001b[0m \u001b[0mnot_composite\u001b[0m \u001b[1;32mor\u001b[0m \u001b[1;32mnot\u001b[0m \u001b[0mhas_images\u001b[0m\u001b[1;33m:\u001b[0m\u001b[1;33m\u001b[0m\u001b[1;33m\u001b[0m\u001b[0m\n\u001b[0;32m    131\u001b[0m         \u001b[1;32mfor\u001b[0m \u001b[0ma\u001b[0m \u001b[1;32min\u001b[0m \u001b[0martists\u001b[0m\u001b[1;33m:\u001b[0m\u001b[1;33m\u001b[0m\u001b[1;33m\u001b[0m\u001b[0m\n\u001b[1;32m--> 132\u001b[1;33m             \u001b[0ma\u001b[0m\u001b[1;33m.\u001b[0m\u001b[0mdraw\u001b[0m\u001b[1;33m(\u001b[0m\u001b[0mrenderer\u001b[0m\u001b[1;33m)\u001b[0m\u001b[1;33m\u001b[0m\u001b[1;33m\u001b[0m\u001b[0m\n\u001b[0m\u001b[0;32m    133\u001b[0m     \u001b[1;32melse\u001b[0m\u001b[1;33m:\u001b[0m\u001b[1;33m\u001b[0m\u001b[1;33m\u001b[0m\u001b[0m\n\u001b[0;32m    134\u001b[0m         \u001b[1;31m# Composite any adjacent images together\u001b[0m\u001b[1;33m\u001b[0m\u001b[1;33m\u001b[0m\u001b[0m\n",
      "\u001b[1;32m~\\anaconda3\\lib\\site-packages\\matplotlib\\artist.py\u001b[0m in \u001b[0;36mdraw_wrapper\u001b[1;34m(artist, renderer, *args, **kwargs)\u001b[0m\n\u001b[0;32m     49\u001b[0m                 \u001b[0mrenderer\u001b[0m\u001b[1;33m.\u001b[0m\u001b[0mstart_filter\u001b[0m\u001b[1;33m(\u001b[0m\u001b[1;33m)\u001b[0m\u001b[1;33m\u001b[0m\u001b[1;33m\u001b[0m\u001b[0m\n\u001b[0;32m     50\u001b[0m \u001b[1;33m\u001b[0m\u001b[0m\n\u001b[1;32m---> 51\u001b[1;33m             \u001b[1;32mreturn\u001b[0m \u001b[0mdraw\u001b[0m\u001b[1;33m(\u001b[0m\u001b[0martist\u001b[0m\u001b[1;33m,\u001b[0m \u001b[0mrenderer\u001b[0m\u001b[1;33m,\u001b[0m \u001b[1;33m*\u001b[0m\u001b[0margs\u001b[0m\u001b[1;33m,\u001b[0m \u001b[1;33m**\u001b[0m\u001b[0mkwargs\u001b[0m\u001b[1;33m)\u001b[0m\u001b[1;33m\u001b[0m\u001b[1;33m\u001b[0m\u001b[0m\n\u001b[0m\u001b[0;32m     52\u001b[0m         \u001b[1;32mfinally\u001b[0m\u001b[1;33m:\u001b[0m\u001b[1;33m\u001b[0m\u001b[1;33m\u001b[0m\u001b[0m\n\u001b[0;32m     53\u001b[0m             \u001b[1;32mif\u001b[0m \u001b[0martist\u001b[0m\u001b[1;33m.\u001b[0m\u001b[0mget_agg_filter\u001b[0m\u001b[1;33m(\u001b[0m\u001b[1;33m)\u001b[0m \u001b[1;32mis\u001b[0m \u001b[1;32mnot\u001b[0m \u001b[1;32mNone\u001b[0m\u001b[1;33m:\u001b[0m\u001b[1;33m\u001b[0m\u001b[1;33m\u001b[0m\u001b[0m\n",
      "\u001b[1;32m~\\anaconda3\\lib\\site-packages\\matplotlib\\axis.py\u001b[0m in \u001b[0;36mdraw\u001b[1;34m(self, renderer, *args, **kwargs)\u001b[0m\n\u001b[0;32m   1144\u001b[0m \u001b[1;33m\u001b[0m\u001b[0m\n\u001b[0;32m   1145\u001b[0m         \u001b[1;32mfor\u001b[0m \u001b[0mtick\u001b[0m \u001b[1;32min\u001b[0m \u001b[0mticks_to_draw\u001b[0m\u001b[1;33m:\u001b[0m\u001b[1;33m\u001b[0m\u001b[1;33m\u001b[0m\u001b[0m\n\u001b[1;32m-> 1146\u001b[1;33m             \u001b[0mtick\u001b[0m\u001b[1;33m.\u001b[0m\u001b[0mdraw\u001b[0m\u001b[1;33m(\u001b[0m\u001b[0mrenderer\u001b[0m\u001b[1;33m)\u001b[0m\u001b[1;33m\u001b[0m\u001b[1;33m\u001b[0m\u001b[0m\n\u001b[0m\u001b[0;32m   1147\u001b[0m \u001b[1;33m\u001b[0m\u001b[0m\n\u001b[0;32m   1148\u001b[0m         \u001b[1;31m# scale up the axis label box to also find the neighbors, not\u001b[0m\u001b[1;33m\u001b[0m\u001b[1;33m\u001b[0m\u001b[0m\n",
      "\u001b[1;32m~\\anaconda3\\lib\\site-packages\\matplotlib\\artist.py\u001b[0m in \u001b[0;36mdraw_wrapper\u001b[1;34m(artist, renderer, *args, **kwargs)\u001b[0m\n\u001b[0;32m     49\u001b[0m                 \u001b[0mrenderer\u001b[0m\u001b[1;33m.\u001b[0m\u001b[0mstart_filter\u001b[0m\u001b[1;33m(\u001b[0m\u001b[1;33m)\u001b[0m\u001b[1;33m\u001b[0m\u001b[1;33m\u001b[0m\u001b[0m\n\u001b[0;32m     50\u001b[0m \u001b[1;33m\u001b[0m\u001b[0m\n\u001b[1;32m---> 51\u001b[1;33m             \u001b[1;32mreturn\u001b[0m \u001b[0mdraw\u001b[0m\u001b[1;33m(\u001b[0m\u001b[0martist\u001b[0m\u001b[1;33m,\u001b[0m \u001b[0mrenderer\u001b[0m\u001b[1;33m,\u001b[0m \u001b[1;33m*\u001b[0m\u001b[0margs\u001b[0m\u001b[1;33m,\u001b[0m \u001b[1;33m**\u001b[0m\u001b[0mkwargs\u001b[0m\u001b[1;33m)\u001b[0m\u001b[1;33m\u001b[0m\u001b[1;33m\u001b[0m\u001b[0m\n\u001b[0m\u001b[0;32m     52\u001b[0m         \u001b[1;32mfinally\u001b[0m\u001b[1;33m:\u001b[0m\u001b[1;33m\u001b[0m\u001b[1;33m\u001b[0m\u001b[0m\n\u001b[0;32m     53\u001b[0m             \u001b[1;32mif\u001b[0m \u001b[0martist\u001b[0m\u001b[1;33m.\u001b[0m\u001b[0mget_agg_filter\u001b[0m\u001b[1;33m(\u001b[0m\u001b[1;33m)\u001b[0m \u001b[1;32mis\u001b[0m \u001b[1;32mnot\u001b[0m \u001b[1;32mNone\u001b[0m\u001b[1;33m:\u001b[0m\u001b[1;33m\u001b[0m\u001b[1;33m\u001b[0m\u001b[0m\n",
      "\u001b[1;32m~\\anaconda3\\lib\\site-packages\\matplotlib\\axis.py\u001b[0m in \u001b[0;36mdraw\u001b[1;34m(self, renderer)\u001b[0m\n\u001b[0;32m    300\u001b[0m         for artist in [self.gridline, self.tick1line, self.tick2line,\n\u001b[0;32m    301\u001b[0m                        self.label1, self.label2]:\n\u001b[1;32m--> 302\u001b[1;33m             \u001b[0martist\u001b[0m\u001b[1;33m.\u001b[0m\u001b[0mdraw\u001b[0m\u001b[1;33m(\u001b[0m\u001b[0mrenderer\u001b[0m\u001b[1;33m)\u001b[0m\u001b[1;33m\u001b[0m\u001b[1;33m\u001b[0m\u001b[0m\n\u001b[0m\u001b[0;32m    303\u001b[0m         \u001b[0mrenderer\u001b[0m\u001b[1;33m.\u001b[0m\u001b[0mclose_group\u001b[0m\u001b[1;33m(\u001b[0m\u001b[0mself\u001b[0m\u001b[1;33m.\u001b[0m\u001b[0m__name__\u001b[0m\u001b[1;33m)\u001b[0m\u001b[1;33m\u001b[0m\u001b[1;33m\u001b[0m\u001b[0m\n\u001b[0;32m    304\u001b[0m         \u001b[0mself\u001b[0m\u001b[1;33m.\u001b[0m\u001b[0mstale\u001b[0m \u001b[1;33m=\u001b[0m \u001b[1;32mFalse\u001b[0m\u001b[1;33m\u001b[0m\u001b[1;33m\u001b[0m\u001b[0m\n",
      "\u001b[1;32m~\\anaconda3\\lib\\site-packages\\matplotlib\\artist.py\u001b[0m in \u001b[0;36mdraw_wrapper\u001b[1;34m(artist, renderer, *args, **kwargs)\u001b[0m\n\u001b[0;32m     49\u001b[0m                 \u001b[0mrenderer\u001b[0m\u001b[1;33m.\u001b[0m\u001b[0mstart_filter\u001b[0m\u001b[1;33m(\u001b[0m\u001b[1;33m)\u001b[0m\u001b[1;33m\u001b[0m\u001b[1;33m\u001b[0m\u001b[0m\n\u001b[0;32m     50\u001b[0m \u001b[1;33m\u001b[0m\u001b[0m\n\u001b[1;32m---> 51\u001b[1;33m             \u001b[1;32mreturn\u001b[0m \u001b[0mdraw\u001b[0m\u001b[1;33m(\u001b[0m\u001b[0martist\u001b[0m\u001b[1;33m,\u001b[0m \u001b[0mrenderer\u001b[0m\u001b[1;33m,\u001b[0m \u001b[1;33m*\u001b[0m\u001b[0margs\u001b[0m\u001b[1;33m,\u001b[0m \u001b[1;33m**\u001b[0m\u001b[0mkwargs\u001b[0m\u001b[1;33m)\u001b[0m\u001b[1;33m\u001b[0m\u001b[1;33m\u001b[0m\u001b[0m\n\u001b[0m\u001b[0;32m     52\u001b[0m         \u001b[1;32mfinally\u001b[0m\u001b[1;33m:\u001b[0m\u001b[1;33m\u001b[0m\u001b[1;33m\u001b[0m\u001b[0m\n\u001b[0;32m     53\u001b[0m             \u001b[1;32mif\u001b[0m \u001b[0martist\u001b[0m\u001b[1;33m.\u001b[0m\u001b[0mget_agg_filter\u001b[0m\u001b[1;33m(\u001b[0m\u001b[1;33m)\u001b[0m \u001b[1;32mis\u001b[0m \u001b[1;32mnot\u001b[0m \u001b[1;32mNone\u001b[0m\u001b[1;33m:\u001b[0m\u001b[1;33m\u001b[0m\u001b[1;33m\u001b[0m\u001b[0m\n",
      "\u001b[1;32m~\\anaconda3\\lib\\site-packages\\matplotlib\\text.py\u001b[0m in \u001b[0;36mdraw\u001b[1;34m(self, renderer)\u001b[0m\n\u001b[0;32m    677\u001b[0m \u001b[1;33m\u001b[0m\u001b[0m\n\u001b[0;32m    678\u001b[0m         \u001b[1;32mwith\u001b[0m \u001b[0m_wrap_text\u001b[0m\u001b[1;33m(\u001b[0m\u001b[0mself\u001b[0m\u001b[1;33m)\u001b[0m \u001b[1;32mas\u001b[0m \u001b[0mtextobj\u001b[0m\u001b[1;33m:\u001b[0m\u001b[1;33m\u001b[0m\u001b[1;33m\u001b[0m\u001b[0m\n\u001b[1;32m--> 679\u001b[1;33m             \u001b[0mbbox\u001b[0m\u001b[1;33m,\u001b[0m \u001b[0minfo\u001b[0m\u001b[1;33m,\u001b[0m \u001b[0mdescent\u001b[0m \u001b[1;33m=\u001b[0m \u001b[0mtextobj\u001b[0m\u001b[1;33m.\u001b[0m\u001b[0m_get_layout\u001b[0m\u001b[1;33m(\u001b[0m\u001b[0mrenderer\u001b[0m\u001b[1;33m)\u001b[0m\u001b[1;33m\u001b[0m\u001b[1;33m\u001b[0m\u001b[0m\n\u001b[0m\u001b[0;32m    680\u001b[0m             \u001b[0mtrans\u001b[0m \u001b[1;33m=\u001b[0m \u001b[0mtextobj\u001b[0m\u001b[1;33m.\u001b[0m\u001b[0mget_transform\u001b[0m\u001b[1;33m(\u001b[0m\u001b[1;33m)\u001b[0m\u001b[1;33m\u001b[0m\u001b[1;33m\u001b[0m\u001b[0m\n\u001b[0;32m    681\u001b[0m \u001b[1;33m\u001b[0m\u001b[0m\n",
      "\u001b[1;32m~\\anaconda3\\lib\\site-packages\\matplotlib\\text.py\u001b[0m in \u001b[0;36m_get_layout\u001b[1;34m(self, renderer)\u001b[0m\n\u001b[0;32m    304\u001b[0m \u001b[1;33m\u001b[0m\u001b[0m\n\u001b[0;32m    305\u001b[0m         \u001b[1;31m# Full vertical extent of font, including ascenders and descenders:\u001b[0m\u001b[1;33m\u001b[0m\u001b[1;33m\u001b[0m\u001b[0m\n\u001b[1;32m--> 306\u001b[1;33m         _, lp_h, lp_d = renderer.get_text_width_height_descent(\n\u001b[0m\u001b[0;32m    307\u001b[0m             \u001b[1;34m\"lp\"\u001b[0m\u001b[1;33m,\u001b[0m \u001b[0mself\u001b[0m\u001b[1;33m.\u001b[0m\u001b[0m_fontproperties\u001b[0m\u001b[1;33m,\u001b[0m\u001b[1;33m\u001b[0m\u001b[1;33m\u001b[0m\u001b[0m\n\u001b[0;32m    308\u001b[0m             ismath=\"TeX\" if self.get_usetex() else False)\n",
      "\u001b[1;32m~\\anaconda3\\lib\\site-packages\\matplotlib\\backends\\backend_agg.py\u001b[0m in \u001b[0;36mget_text_width_height_descent\u001b[1;34m(self, s, prop, ismath)\u001b[0m\n\u001b[0;32m    238\u001b[0m         \u001b[0mflags\u001b[0m \u001b[1;33m=\u001b[0m \u001b[0mget_hinting_flag\u001b[0m\u001b[1;33m(\u001b[0m\u001b[1;33m)\u001b[0m\u001b[1;33m\u001b[0m\u001b[1;33m\u001b[0m\u001b[0m\n\u001b[0;32m    239\u001b[0m         \u001b[0mfont\u001b[0m \u001b[1;33m=\u001b[0m \u001b[0mself\u001b[0m\u001b[1;33m.\u001b[0m\u001b[0m_get_agg_font\u001b[0m\u001b[1;33m(\u001b[0m\u001b[0mprop\u001b[0m\u001b[1;33m)\u001b[0m\u001b[1;33m\u001b[0m\u001b[1;33m\u001b[0m\u001b[0m\n\u001b[1;32m--> 240\u001b[1;33m         \u001b[0mfont\u001b[0m\u001b[1;33m.\u001b[0m\u001b[0mset_text\u001b[0m\u001b[1;33m(\u001b[0m\u001b[0ms\u001b[0m\u001b[1;33m,\u001b[0m \u001b[1;36m0.0\u001b[0m\u001b[1;33m,\u001b[0m \u001b[0mflags\u001b[0m\u001b[1;33m=\u001b[0m\u001b[0mflags\u001b[0m\u001b[1;33m)\u001b[0m\u001b[1;33m\u001b[0m\u001b[1;33m\u001b[0m\u001b[0m\n\u001b[0m\u001b[0;32m    241\u001b[0m         \u001b[0mw\u001b[0m\u001b[1;33m,\u001b[0m \u001b[0mh\u001b[0m \u001b[1;33m=\u001b[0m \u001b[0mfont\u001b[0m\u001b[1;33m.\u001b[0m\u001b[0mget_width_height\u001b[0m\u001b[1;33m(\u001b[0m\u001b[1;33m)\u001b[0m  \u001b[1;31m# width and height of unrotated string\u001b[0m\u001b[1;33m\u001b[0m\u001b[1;33m\u001b[0m\u001b[0m\n\u001b[0;32m    242\u001b[0m         \u001b[0md\u001b[0m \u001b[1;33m=\u001b[0m \u001b[0mfont\u001b[0m\u001b[1;33m.\u001b[0m\u001b[0mget_descent\u001b[0m\u001b[1;33m(\u001b[0m\u001b[1;33m)\u001b[0m\u001b[1;33m\u001b[0m\u001b[1;33m\u001b[0m\u001b[0m\n",
      "\u001b[1;31mKeyboardInterrupt\u001b[0m: "
     ]
    }
   ],
   "source": [
    "sns.scatterplot(x=\"article_text\", y=\"sales_profit\", data=df) #continues data"
   ]
  },
  {
   "cell_type": "code",
   "execution_count": 399,
   "id": "2212a17a",
   "metadata": {
    "scrolled": true
   },
   "outputs": [
    {
     "data": {
      "text/plain": [
       "article_text\n",
       "Lounge set ULLEHUSE 6 pers. black         58866498.00\n",
       "Transport                                 37049576.68\n",
       "Lounge set TAMBOHUSE 5 pers. grey         37009092.18\n",
       "Sofa bed chaiselongue VEJLBY dark grey    33888022.30\n",
       "Lounge set VONGE 5 pers. black            32942864.73\n",
       "PIL 800g Høie DOWNFEEL 50x60cm            30777806.15\n",
       "PIL 650g Varnamo KEISAREN 50x60cm         28766862.32\n",
       "DUV 7 kg CURA PEARL 150x210cm             25621400.36\n",
       "TM 180x200cm GOLD T65 white/light grey    25329457.31\n",
       "Recliner chair STORD grey                 24706191.05\n",
       "Name: sales_excluding_tax, dtype: float64"
      ]
     },
     "execution_count": 399,
     "metadata": {},
     "output_type": "execute_result"
    }
   ],
   "source": [
    "product_group = df.groupby('article_text')\n",
    "product_group.sales_excluding_tax.sum().nlargest(10)"
   ]
  },
  {
   "cell_type": "code",
   "execution_count": 400,
   "id": "cb896c05",
   "metadata": {},
   "outputs": [],
   "source": [
    "mask = df['article_text'] == 'Front of drawer'"
   ]
  },
  {
   "cell_type": "code",
   "execution_count": 401,
   "id": "dfc9319f",
   "metadata": {},
   "outputs": [
    {
     "data": {
      "text/html": [
       "<div>\n",
       "<style scoped>\n",
       "    .dataframe tbody tr th:only-of-type {\n",
       "        vertical-align: middle;\n",
       "    }\n",
       "\n",
       "    .dataframe tbody tr th {\n",
       "        vertical-align: top;\n",
       "    }\n",
       "\n",
       "    .dataframe thead th {\n",
       "        text-align: right;\n",
       "    }\n",
       "</style>\n",
       "<table border=\"1\" class=\"dataframe\">\n",
       "  <thead>\n",
       "    <tr style=\"text-align: right;\">\n",
       "      <th></th>\n",
       "      <th>calendar_day</th>\n",
       "      <th>article</th>\n",
       "      <th>article_text</th>\n",
       "      <th>sales_org</th>\n",
       "      <th>sales_profit</th>\n",
       "      <th>sales_profit_currency</th>\n",
       "      <th>quantity</th>\n",
       "      <th>sales_excluding_tax</th>\n",
       "      <th>cost</th>\n",
       "      <th>month</th>\n",
       "    </tr>\n",
       "  </thead>\n",
       "  <tbody>\n",
       "    <tr>\n",
       "      <th>941</th>\n",
       "      <td>2020-04-17</td>\n",
       "      <td>000000000003782210</td>\n",
       "      <td>Lounge set ULLEHUSE 6 pers. black</td>\n",
       "      <td>1002</td>\n",
       "      <td>1580.33</td>\n",
       "      <td>SEK</td>\n",
       "      <td>1.0</td>\n",
       "      <td>3600.00</td>\n",
       "      <td>2019.67</td>\n",
       "      <td>4</td>\n",
       "    </tr>\n",
       "    <tr>\n",
       "      <th>7079</th>\n",
       "      <td>2021-06-21</td>\n",
       "      <td>000000000003700004</td>\n",
       "      <td>Lounge set ULLEHUSE 6 pers. black</td>\n",
       "      <td>1002</td>\n",
       "      <td>119804.81</td>\n",
       "      <td>SEK</td>\n",
       "      <td>46.0</td>\n",
       "      <td>195040.82</td>\n",
       "      <td>75236.01</td>\n",
       "      <td>6</td>\n",
       "    </tr>\n",
       "    <tr>\n",
       "      <th>10104</th>\n",
       "      <td>2021-05-16</td>\n",
       "      <td>000000000003700004</td>\n",
       "      <td>Lounge set ULLEHUSE 6 pers. black</td>\n",
       "      <td>1002</td>\n",
       "      <td>108847.91</td>\n",
       "      <td>SEK</td>\n",
       "      <td>51.0</td>\n",
       "      <td>193440.00</td>\n",
       "      <td>84592.09</td>\n",
       "      <td>5</td>\n",
       "    </tr>\n",
       "    <tr>\n",
       "      <th>11800</th>\n",
       "      <td>2021-03-08</td>\n",
       "      <td>000000000003700004</td>\n",
       "      <td>Lounge set ULLEHUSE 6 pers. black</td>\n",
       "      <td>1002</td>\n",
       "      <td>31338.31</td>\n",
       "      <td>SEK</td>\n",
       "      <td>10.0</td>\n",
       "      <td>48000.00</td>\n",
       "      <td>16661.69</td>\n",
       "      <td>3</td>\n",
       "    </tr>\n",
       "    <tr>\n",
       "      <th>19878</th>\n",
       "      <td>2021-08-27</td>\n",
       "      <td>000000000003700004</td>\n",
       "      <td>Lounge set ULLEHUSE 6 pers. black</td>\n",
       "      <td>1002</td>\n",
       "      <td>25141.61</td>\n",
       "      <td>SEK</td>\n",
       "      <td>16.0</td>\n",
       "      <td>51200.01</td>\n",
       "      <td>26058.40</td>\n",
       "      <td>8</td>\n",
       "    </tr>\n",
       "  </tbody>\n",
       "</table>\n",
       "</div>"
      ],
      "text/plain": [
       "      calendar_day             article                       article_text  \\\n",
       "941     2020-04-17  000000000003782210  Lounge set ULLEHUSE 6 pers. black   \n",
       "7079    2021-06-21  000000000003700004  Lounge set ULLEHUSE 6 pers. black   \n",
       "10104   2021-05-16  000000000003700004  Lounge set ULLEHUSE 6 pers. black   \n",
       "11800   2021-03-08  000000000003700004  Lounge set ULLEHUSE 6 pers. black   \n",
       "19878   2021-08-27  000000000003700004  Lounge set ULLEHUSE 6 pers. black   \n",
       "\n",
       "       sales_org  sales_profit sales_profit_currency  quantity  \\\n",
       "941         1002       1580.33                   SEK       1.0   \n",
       "7079        1002     119804.81                   SEK      46.0   \n",
       "10104       1002     108847.91                   SEK      51.0   \n",
       "11800       1002      31338.31                   SEK      10.0   \n",
       "19878       1002      25141.61                   SEK      16.0   \n",
       "\n",
       "       sales_excluding_tax      cost  month  \n",
       "941                3600.00   2019.67      4  \n",
       "7079             195040.82  75236.01      6  \n",
       "10104            193440.00  84592.09      5  \n",
       "11800             48000.00  16661.69      3  \n",
       "19878             51200.01  26058.40      8  "
      ]
     },
     "execution_count": 401,
     "metadata": {},
     "output_type": "execute_result"
    }
   ],
   "source": [
    "prod1 = df.loc[df['article_text'] == 'Lounge set ULLEHUSE 6 pers. black'] \n",
    "prod1.head()       "
   ]
  },
  {
   "cell_type": "code",
   "execution_count": 402,
   "id": "aa2b198e",
   "metadata": {},
   "outputs": [],
   "source": [
    "prod1 = prod1.groupby('month').sum()['sales_excluding_tax'].reset_index()"
   ]
  },
  {
   "cell_type": "code",
   "execution_count": 403,
   "id": "dccdd6f5",
   "metadata": {
    "scrolled": true
   },
   "outputs": [
    {
     "data": {
      "text/html": [
       "<div>\n",
       "<style scoped>\n",
       "    .dataframe tbody tr th:only-of-type {\n",
       "        vertical-align: middle;\n",
       "    }\n",
       "\n",
       "    .dataframe tbody tr th {\n",
       "        vertical-align: top;\n",
       "    }\n",
       "\n",
       "    .dataframe thead th {\n",
       "        text-align: right;\n",
       "    }\n",
       "</style>\n",
       "<table border=\"1\" class=\"dataframe\">\n",
       "  <thead>\n",
       "    <tr style=\"text-align: right;\">\n",
       "      <th></th>\n",
       "      <th>month</th>\n",
       "      <th>Lounge set ULLEHUSE 6 pers. black</th>\n",
       "    </tr>\n",
       "  </thead>\n",
       "  <tbody>\n",
       "    <tr>\n",
       "      <th>0</th>\n",
       "      <td>1</td>\n",
       "      <td>125198.40</td>\n",
       "    </tr>\n",
       "    <tr>\n",
       "      <th>1</th>\n",
       "      <td>2</td>\n",
       "      <td>233929.73</td>\n",
       "    </tr>\n",
       "    <tr>\n",
       "      <th>2</th>\n",
       "      <td>3</td>\n",
       "      <td>9315763.54</td>\n",
       "    </tr>\n",
       "    <tr>\n",
       "      <th>3</th>\n",
       "      <td>4</td>\n",
       "      <td>19572876.67</td>\n",
       "    </tr>\n",
       "    <tr>\n",
       "      <th>4</th>\n",
       "      <td>5</td>\n",
       "      <td>12437521.41</td>\n",
       "    </tr>\n",
       "    <tr>\n",
       "      <th>5</th>\n",
       "      <td>6</td>\n",
       "      <td>4995113.67</td>\n",
       "    </tr>\n",
       "    <tr>\n",
       "      <th>6</th>\n",
       "      <td>7</td>\n",
       "      <td>3322973.21</td>\n",
       "    </tr>\n",
       "    <tr>\n",
       "      <th>7</th>\n",
       "      <td>8</td>\n",
       "      <td>7177070.11</td>\n",
       "    </tr>\n",
       "    <tr>\n",
       "      <th>8</th>\n",
       "      <td>9</td>\n",
       "      <td>1552404.86</td>\n",
       "    </tr>\n",
       "    <tr>\n",
       "      <th>9</th>\n",
       "      <td>10</td>\n",
       "      <td>128046.40</td>\n",
       "    </tr>\n",
       "    <tr>\n",
       "      <th>10</th>\n",
       "      <td>11</td>\n",
       "      <td>-4800.00</td>\n",
       "    </tr>\n",
       "    <tr>\n",
       "      <th>11</th>\n",
       "      <td>12</td>\n",
       "      <td>10400.00</td>\n",
       "    </tr>\n",
       "  </tbody>\n",
       "</table>\n",
       "</div>"
      ],
      "text/plain": [
       "    month  Lounge set ULLEHUSE 6 pers. black\n",
       "0       1                          125198.40\n",
       "1       2                          233929.73\n",
       "2       3                         9315763.54\n",
       "3       4                        19572876.67\n",
       "4       5                        12437521.41\n",
       "5       6                         4995113.67\n",
       "6       7                         3322973.21\n",
       "7       8                         7177070.11\n",
       "8       9                         1552404.86\n",
       "9      10                          128046.40\n",
       "10     11                           -4800.00\n",
       "11     12                           10400.00"
      ]
     },
     "execution_count": 403,
     "metadata": {},
     "output_type": "execute_result"
    }
   ],
   "source": [
    "prod1 = prod1.rename(columns = {'sales_excluding_tax':'Lounge set ULLEHUSE 6 pers. black'})\n",
    "prod1"
   ]
  },
  {
   "cell_type": "code",
   "execution_count": 404,
   "id": "ffec78d1",
   "metadata": {},
   "outputs": [
    {
     "data": {
      "text/html": [
       "<div>\n",
       "<style scoped>\n",
       "    .dataframe tbody tr th:only-of-type {\n",
       "        vertical-align: middle;\n",
       "    }\n",
       "\n",
       "    .dataframe tbody tr th {\n",
       "        vertical-align: top;\n",
       "    }\n",
       "\n",
       "    .dataframe thead th {\n",
       "        text-align: right;\n",
       "    }\n",
       "</style>\n",
       "<table border=\"1\" class=\"dataframe\">\n",
       "  <thead>\n",
       "    <tr style=\"text-align: right;\">\n",
       "      <th></th>\n",
       "      <th>calendar_day</th>\n",
       "      <th>article</th>\n",
       "      <th>article_text</th>\n",
       "      <th>sales_org</th>\n",
       "      <th>sales_profit</th>\n",
       "      <th>sales_profit_currency</th>\n",
       "      <th>quantity</th>\n",
       "      <th>sales_excluding_tax</th>\n",
       "      <th>cost</th>\n",
       "      <th>month</th>\n",
       "    </tr>\n",
       "  </thead>\n",
       "  <tbody>\n",
       "    <tr>\n",
       "      <th>523</th>\n",
       "      <td>2020-02-16</td>\n",
       "      <td>000000000003778042</td>\n",
       "      <td>Lounge set TAMBOHUSE 5 pers. grey</td>\n",
       "      <td>1002</td>\n",
       "      <td>0.00</td>\n",
       "      <td>SEK</td>\n",
       "      <td>0.0</td>\n",
       "      <td>0.00</td>\n",
       "      <td>0.00</td>\n",
       "      <td>2</td>\n",
       "    </tr>\n",
       "    <tr>\n",
       "      <th>2076</th>\n",
       "      <td>2020-07-29</td>\n",
       "      <td>000000000003778042</td>\n",
       "      <td>Lounge set TAMBOHUSE 5 pers. grey</td>\n",
       "      <td>1002</td>\n",
       "      <td>0.00</td>\n",
       "      <td>SEK</td>\n",
       "      <td>0.0</td>\n",
       "      <td>0.00</td>\n",
       "      <td>0.00</td>\n",
       "      <td>7</td>\n",
       "    </tr>\n",
       "    <tr>\n",
       "      <th>22165</th>\n",
       "      <td>2021-05-04</td>\n",
       "      <td>000000000003778042</td>\n",
       "      <td>Lounge set TAMBOHUSE 5 pers. grey</td>\n",
       "      <td>1002</td>\n",
       "      <td>29428.83</td>\n",
       "      <td>SEK</td>\n",
       "      <td>7.0</td>\n",
       "      <td>67600.00</td>\n",
       "      <td>38171.17</td>\n",
       "      <td>5</td>\n",
       "    </tr>\n",
       "    <tr>\n",
       "      <th>36889</th>\n",
       "      <td>2021-07-27</td>\n",
       "      <td>000000000003778042</td>\n",
       "      <td>Lounge set TAMBOHUSE 5 pers. grey</td>\n",
       "      <td>1002</td>\n",
       "      <td>17852.71</td>\n",
       "      <td>SEK</td>\n",
       "      <td>2.0</td>\n",
       "      <td>28080.00</td>\n",
       "      <td>10227.29</td>\n",
       "      <td>7</td>\n",
       "    </tr>\n",
       "    <tr>\n",
       "      <th>39450</th>\n",
       "      <td>2020-05-23</td>\n",
       "      <td>000000000003778042</td>\n",
       "      <td>Lounge set TAMBOHUSE 5 pers. grey</td>\n",
       "      <td>1002</td>\n",
       "      <td>28797.47</td>\n",
       "      <td>SEK</td>\n",
       "      <td>5.0</td>\n",
       "      <td>57600.00</td>\n",
       "      <td>28802.53</td>\n",
       "      <td>5</td>\n",
       "    </tr>\n",
       "    <tr>\n",
       "      <th>...</th>\n",
       "      <td>...</td>\n",
       "      <td>...</td>\n",
       "      <td>...</td>\n",
       "      <td>...</td>\n",
       "      <td>...</td>\n",
       "      <td>...</td>\n",
       "      <td>...</td>\n",
       "      <td>...</td>\n",
       "      <td>...</td>\n",
       "      <td>...</td>\n",
       "    </tr>\n",
       "    <tr>\n",
       "      <th>2481422</th>\n",
       "      <td>2020-05-31</td>\n",
       "      <td>000000000003778042</td>\n",
       "      <td>Lounge set TAMBOHUSE 5 pers. grey</td>\n",
       "      <td>1002</td>\n",
       "      <td>23458.60</td>\n",
       "      <td>SEK</td>\n",
       "      <td>4.0</td>\n",
       "      <td>47200.01</td>\n",
       "      <td>23741.41</td>\n",
       "      <td>5</td>\n",
       "    </tr>\n",
       "    <tr>\n",
       "      <th>2485446</th>\n",
       "      <td>2021-06-01</td>\n",
       "      <td>000000000003778042</td>\n",
       "      <td>Lounge set TAMBOHUSE 5 pers. grey</td>\n",
       "      <td>1002</td>\n",
       "      <td>31109.54</td>\n",
       "      <td>SEK</td>\n",
       "      <td>5.0</td>\n",
       "      <td>57359.99</td>\n",
       "      <td>26250.45</td>\n",
       "      <td>6</td>\n",
       "    </tr>\n",
       "    <tr>\n",
       "      <th>2498339</th>\n",
       "      <td>2021-03-23</td>\n",
       "      <td>000000000003778042</td>\n",
       "      <td>Lounge set TAMBOHUSE 5 pers. grey</td>\n",
       "      <td>1002</td>\n",
       "      <td>61124.51</td>\n",
       "      <td>SEK</td>\n",
       "      <td>11.0</td>\n",
       "      <td>118482.39</td>\n",
       "      <td>57357.88</td>\n",
       "      <td>3</td>\n",
       "    </tr>\n",
       "    <tr>\n",
       "      <th>2498495</th>\n",
       "      <td>2021-07-10</td>\n",
       "      <td>000000000003778042</td>\n",
       "      <td>Lounge set TAMBOHUSE 5 pers. grey</td>\n",
       "      <td>1002</td>\n",
       "      <td>36261.73</td>\n",
       "      <td>SEK</td>\n",
       "      <td>4.0</td>\n",
       "      <td>56799.20</td>\n",
       "      <td>20537.47</td>\n",
       "      <td>7</td>\n",
       "    </tr>\n",
       "    <tr>\n",
       "      <th>2521121</th>\n",
       "      <td>2021-07-25</td>\n",
       "      <td>000000000003778042</td>\n",
       "      <td>Lounge set TAMBOHUSE 5 pers. grey</td>\n",
       "      <td>1002</td>\n",
       "      <td>18192.05</td>\n",
       "      <td>SEK</td>\n",
       "      <td>2.0</td>\n",
       "      <td>28400.00</td>\n",
       "      <td>10207.95</td>\n",
       "      <td>7</td>\n",
       "    </tr>\n",
       "  </tbody>\n",
       "</table>\n",
       "<p>399 rows × 10 columns</p>\n",
       "</div>"
      ],
      "text/plain": [
       "        calendar_day             article                       article_text  \\\n",
       "523       2020-02-16  000000000003778042  Lounge set TAMBOHUSE 5 pers. grey   \n",
       "2076      2020-07-29  000000000003778042  Lounge set TAMBOHUSE 5 pers. grey   \n",
       "22165     2021-05-04  000000000003778042  Lounge set TAMBOHUSE 5 pers. grey   \n",
       "36889     2021-07-27  000000000003778042  Lounge set TAMBOHUSE 5 pers. grey   \n",
       "39450     2020-05-23  000000000003778042  Lounge set TAMBOHUSE 5 pers. grey   \n",
       "...              ...                 ...                                ...   \n",
       "2481422   2020-05-31  000000000003778042  Lounge set TAMBOHUSE 5 pers. grey   \n",
       "2485446   2021-06-01  000000000003778042  Lounge set TAMBOHUSE 5 pers. grey   \n",
       "2498339   2021-03-23  000000000003778042  Lounge set TAMBOHUSE 5 pers. grey   \n",
       "2498495   2021-07-10  000000000003778042  Lounge set TAMBOHUSE 5 pers. grey   \n",
       "2521121   2021-07-25  000000000003778042  Lounge set TAMBOHUSE 5 pers. grey   \n",
       "\n",
       "         sales_org  sales_profit sales_profit_currency  quantity  \\\n",
       "523           1002          0.00                   SEK       0.0   \n",
       "2076          1002          0.00                   SEK       0.0   \n",
       "22165         1002      29428.83                   SEK       7.0   \n",
       "36889         1002      17852.71                   SEK       2.0   \n",
       "39450         1002      28797.47                   SEK       5.0   \n",
       "...            ...           ...                   ...       ...   \n",
       "2481422       1002      23458.60                   SEK       4.0   \n",
       "2485446       1002      31109.54                   SEK       5.0   \n",
       "2498339       1002      61124.51                   SEK      11.0   \n",
       "2498495       1002      36261.73                   SEK       4.0   \n",
       "2521121       1002      18192.05                   SEK       2.0   \n",
       "\n",
       "         sales_excluding_tax      cost  month  \n",
       "523                     0.00      0.00      2  \n",
       "2076                    0.00      0.00      7  \n",
       "22165               67600.00  38171.17      5  \n",
       "36889               28080.00  10227.29      7  \n",
       "39450               57600.00  28802.53      5  \n",
       "...                      ...       ...    ...  \n",
       "2481422             47200.01  23741.41      5  \n",
       "2485446             57359.99  26250.45      6  \n",
       "2498339            118482.39  57357.88      3  \n",
       "2498495             56799.20  20537.47      7  \n",
       "2521121             28400.00  10207.95      7  \n",
       "\n",
       "[399 rows x 10 columns]"
      ]
     },
     "execution_count": 404,
     "metadata": {},
     "output_type": "execute_result"
    }
   ],
   "source": [
    "prod2 = df.loc[df['article_text'] == 'Lounge set TAMBOHUSE 5 pers. grey'] \n",
    "prod2"
   ]
  },
  {
   "cell_type": "code",
   "execution_count": 405,
   "id": "3ea5f1c2",
   "metadata": {},
   "outputs": [
    {
     "data": {
      "text/html": [
       "<div>\n",
       "<style scoped>\n",
       "    .dataframe tbody tr th:only-of-type {\n",
       "        vertical-align: middle;\n",
       "    }\n",
       "\n",
       "    .dataframe tbody tr th {\n",
       "        vertical-align: top;\n",
       "    }\n",
       "\n",
       "    .dataframe thead th {\n",
       "        text-align: right;\n",
       "    }\n",
       "</style>\n",
       "<table border=\"1\" class=\"dataframe\">\n",
       "  <thead>\n",
       "    <tr style=\"text-align: right;\">\n",
       "      <th></th>\n",
       "      <th>month</th>\n",
       "      <th>Lounge set TAMBOHUSE 5 pers. grey</th>\n",
       "    </tr>\n",
       "  </thead>\n",
       "  <tbody>\n",
       "    <tr>\n",
       "      <th>0</th>\n",
       "      <td>1</td>\n",
       "      <td>0.00</td>\n",
       "    </tr>\n",
       "    <tr>\n",
       "      <th>1</th>\n",
       "      <td>2</td>\n",
       "      <td>64282.34</td>\n",
       "    </tr>\n",
       "    <tr>\n",
       "      <th>2</th>\n",
       "      <td>3</td>\n",
       "      <td>4899826.55</td>\n",
       "    </tr>\n",
       "    <tr>\n",
       "      <th>3</th>\n",
       "      <td>4</td>\n",
       "      <td>6524325.21</td>\n",
       "    </tr>\n",
       "    <tr>\n",
       "      <th>4</th>\n",
       "      <td>5</td>\n",
       "      <td>11766792.38</td>\n",
       "    </tr>\n",
       "    <tr>\n",
       "      <th>5</th>\n",
       "      <td>6</td>\n",
       "      <td>7713878.53</td>\n",
       "    </tr>\n",
       "    <tr>\n",
       "      <th>6</th>\n",
       "      <td>7</td>\n",
       "      <td>3461508.81</td>\n",
       "    </tr>\n",
       "    <tr>\n",
       "      <th>7</th>\n",
       "      <td>8</td>\n",
       "      <td>2501863.64</td>\n",
       "    </tr>\n",
       "    <tr>\n",
       "      <th>8</th>\n",
       "      <td>9</td>\n",
       "      <td>21200.00</td>\n",
       "    </tr>\n",
       "    <tr>\n",
       "      <th>9</th>\n",
       "      <td>10</td>\n",
       "      <td>-16585.28</td>\n",
       "    </tr>\n",
       "    <tr>\n",
       "      <th>10</th>\n",
       "      <td>12</td>\n",
       "      <td>72000.00</td>\n",
       "    </tr>\n",
       "  </tbody>\n",
       "</table>\n",
       "</div>"
      ],
      "text/plain": [
       "    month  Lounge set TAMBOHUSE 5 pers. grey\n",
       "0       1                               0.00\n",
       "1       2                           64282.34\n",
       "2       3                         4899826.55\n",
       "3       4                         6524325.21\n",
       "4       5                        11766792.38\n",
       "5       6                         7713878.53\n",
       "6       7                         3461508.81\n",
       "7       8                         2501863.64\n",
       "8       9                           21200.00\n",
       "9      10                          -16585.28\n",
       "10     12                           72000.00"
      ]
     },
     "execution_count": 405,
     "metadata": {},
     "output_type": "execute_result"
    }
   ],
   "source": [
    "prod2 = prod2.groupby('month').sum()['sales_excluding_tax'].reset_index()\n",
    "prod2 = prod2.rename(columns = {'sales_excluding_tax':'Lounge set TAMBOHUSE 5 pers. grey'})\n",
    "prod2"
   ]
  },
  {
   "cell_type": "code",
   "execution_count": 406,
   "id": "7913ea06",
   "metadata": {},
   "outputs": [],
   "source": [
    "prod3 = df.loc[df['article_text'] == 'Sofa bed chaiselongue VEJLBY dark grey']"
   ]
  },
  {
   "cell_type": "code",
   "execution_count": 407,
   "id": "cc7558d9",
   "metadata": {
    "scrolled": true
   },
   "outputs": [],
   "source": [
    "prod3 = prod3.groupby('month').sum()['sales_excluding_tax'].reset_index()\n",
    "prod3 = prod3.rename(columns = {'sales_excluding_tax':'Sofa bed chaiselongue VEJLBY dark grey'})"
   ]
  },
  {
   "cell_type": "code",
   "execution_count": 408,
   "id": "106c2948",
   "metadata": {},
   "outputs": [
    {
     "data": {
      "text/html": [
       "<div>\n",
       "<style scoped>\n",
       "    .dataframe tbody tr th:only-of-type {\n",
       "        vertical-align: middle;\n",
       "    }\n",
       "\n",
       "    .dataframe tbody tr th {\n",
       "        vertical-align: top;\n",
       "    }\n",
       "\n",
       "    .dataframe thead th {\n",
       "        text-align: right;\n",
       "    }\n",
       "</style>\n",
       "<table border=\"1\" class=\"dataframe\">\n",
       "  <thead>\n",
       "    <tr style=\"text-align: right;\">\n",
       "      <th></th>\n",
       "      <th>month</th>\n",
       "      <th>Sofa bed chaiselongue VEJLBY dark grey</th>\n",
       "    </tr>\n",
       "  </thead>\n",
       "  <tbody>\n",
       "    <tr>\n",
       "      <th>0</th>\n",
       "      <td>1</td>\n",
       "      <td>2952044.71</td>\n",
       "    </tr>\n",
       "    <tr>\n",
       "      <th>1</th>\n",
       "      <td>2</td>\n",
       "      <td>2375190.84</td>\n",
       "    </tr>\n",
       "    <tr>\n",
       "      <th>2</th>\n",
       "      <td>3</td>\n",
       "      <td>3216231.16</td>\n",
       "    </tr>\n",
       "    <tr>\n",
       "      <th>3</th>\n",
       "      <td>4</td>\n",
       "      <td>2701323.21</td>\n",
       "    </tr>\n",
       "    <tr>\n",
       "      <th>4</th>\n",
       "      <td>5</td>\n",
       "      <td>3174653.61</td>\n",
       "    </tr>\n",
       "    <tr>\n",
       "      <th>5</th>\n",
       "      <td>6</td>\n",
       "      <td>3333557.92</td>\n",
       "    </tr>\n",
       "    <tr>\n",
       "      <th>6</th>\n",
       "      <td>7</td>\n",
       "      <td>3662846.69</td>\n",
       "    </tr>\n",
       "    <tr>\n",
       "      <th>7</th>\n",
       "      <td>8</td>\n",
       "      <td>2682401.07</td>\n",
       "    </tr>\n",
       "    <tr>\n",
       "      <th>8</th>\n",
       "      <td>9</td>\n",
       "      <td>3409308.78</td>\n",
       "    </tr>\n",
       "    <tr>\n",
       "      <th>9</th>\n",
       "      <td>10</td>\n",
       "      <td>3057496.77</td>\n",
       "    </tr>\n",
       "    <tr>\n",
       "      <th>10</th>\n",
       "      <td>11</td>\n",
       "      <td>1830029.88</td>\n",
       "    </tr>\n",
       "    <tr>\n",
       "      <th>11</th>\n",
       "      <td>12</td>\n",
       "      <td>1492937.66</td>\n",
       "    </tr>\n",
       "  </tbody>\n",
       "</table>\n",
       "</div>"
      ],
      "text/plain": [
       "    month  Sofa bed chaiselongue VEJLBY dark grey\n",
       "0       1                              2952044.71\n",
       "1       2                              2375190.84\n",
       "2       3                              3216231.16\n",
       "3       4                              2701323.21\n",
       "4       5                              3174653.61\n",
       "5       6                              3333557.92\n",
       "6       7                              3662846.69\n",
       "7       8                              2682401.07\n",
       "8       9                              3409308.78\n",
       "9      10                              3057496.77\n",
       "10     11                              1830029.88\n",
       "11     12                              1492937.66"
      ]
     },
     "execution_count": 408,
     "metadata": {},
     "output_type": "execute_result"
    }
   ],
   "source": [
    "prod3"
   ]
  },
  {
   "cell_type": "code",
   "execution_count": 409,
   "id": "5047b662",
   "metadata": {},
   "outputs": [
    {
     "data": {
      "text/plain": [
       "0            0.00\n",
       "1        64282.34\n",
       "2      4899826.55\n",
       "3      6524325.21\n",
       "4     11766792.38\n",
       "5      7713878.53\n",
       "6      3461508.81\n",
       "7      2501863.64\n",
       "8        21200.00\n",
       "9       -16585.28\n",
       "10       72000.00\n",
       "Name: Lounge set TAMBOHUSE 5 pers. grey, dtype: float64"
      ]
     },
     "metadata": {},
     "output_type": "display_data"
    },
    {
     "data": {
      "text/plain": [
       "0     2952044.71\n",
       "1     2375190.84\n",
       "2     3216231.16\n",
       "3     2701323.21\n",
       "4     3174653.61\n",
       "5     3333557.92\n",
       "6     3662846.69\n",
       "7     2682401.07\n",
       "8     3409308.78\n",
       "9     3057496.77\n",
       "10    1830029.88\n",
       "11    1492937.66\n",
       "Name: Sofa bed chaiselongue VEJLBY dark grey, dtype: float64"
      ]
     },
     "metadata": {},
     "output_type": "display_data"
    }
   ],
   "source": [
    "prod2_var = prod2['Lounge set TAMBOHUSE 5 pers. grey']\n",
    "prod3_var = prod3['Sofa bed chaiselongue VEJLBY dark grey']\n",
    "display(prod2_var)\n",
    "display(prod3_var)"
   ]
  },
  {
   "cell_type": "code",
   "execution_count": 410,
   "id": "0f9a16ce",
   "metadata": {},
   "outputs": [],
   "source": [
    "prod1.insert(2, 'Lounge set TAMBOHUSE 5 pers. grey', prod2_var)\n",
    "prod1.insert(3, 'Sofa bed chaiselongue VEJLBY dark grey', prod3_var )"
   ]
  },
  {
   "cell_type": "code",
   "execution_count": 411,
   "id": "4e771ddf",
   "metadata": {},
   "outputs": [
    {
     "data": {
      "text/html": [
       "<div>\n",
       "<style scoped>\n",
       "    .dataframe tbody tr th:only-of-type {\n",
       "        vertical-align: middle;\n",
       "    }\n",
       "\n",
       "    .dataframe tbody tr th {\n",
       "        vertical-align: top;\n",
       "    }\n",
       "\n",
       "    .dataframe thead th {\n",
       "        text-align: right;\n",
       "    }\n",
       "</style>\n",
       "<table border=\"1\" class=\"dataframe\">\n",
       "  <thead>\n",
       "    <tr style=\"text-align: right;\">\n",
       "      <th></th>\n",
       "      <th>month</th>\n",
       "      <th>Lounge set ULLEHUSE 6 pers. black</th>\n",
       "      <th>Lounge set TAMBOHUSE 5 pers. grey</th>\n",
       "      <th>Sofa bed chaiselongue VEJLBY dark grey</th>\n",
       "    </tr>\n",
       "  </thead>\n",
       "  <tbody>\n",
       "    <tr>\n",
       "      <th>0</th>\n",
       "      <td>1</td>\n",
       "      <td>125198.40</td>\n",
       "      <td>0.00</td>\n",
       "      <td>2952044.71</td>\n",
       "    </tr>\n",
       "    <tr>\n",
       "      <th>1</th>\n",
       "      <td>2</td>\n",
       "      <td>233929.73</td>\n",
       "      <td>64282.34</td>\n",
       "      <td>2375190.84</td>\n",
       "    </tr>\n",
       "  </tbody>\n",
       "</table>\n",
       "</div>"
      ],
      "text/plain": [
       "   month  Lounge set ULLEHUSE 6 pers. black  \\\n",
       "0      1                          125198.40   \n",
       "1      2                          233929.73   \n",
       "\n",
       "   Lounge set TAMBOHUSE 5 pers. grey  Sofa bed chaiselongue VEJLBY dark grey  \n",
       "0                               0.00                              2952044.71  \n",
       "1                           64282.34                              2375190.84  "
      ]
     },
     "execution_count": 411,
     "metadata": {},
     "output_type": "execute_result"
    }
   ],
   "source": [
    "prod1.head(2)"
   ]
  },
  {
   "cell_type": "code",
   "execution_count": 412,
   "id": "1fbbf596",
   "metadata": {},
   "outputs": [
    {
     "data": {
      "image/png": "[encoded data removed]",
      "text/plain": [
       "<Figure size 1080x432 with 1 Axes>"
      ]
     },
     "metadata": {
      "needs_background": "light"
     },
     "output_type": "display_data"
    }
   ],
   "source": [
    "plt.figure(figsize = (15,6))\n",
    "\n",
    "monthList = prod1['month'].tolist()\n",
    "LoungeULLEHUSEblackSalesData = prod1['Lounge set ULLEHUSE 6 pers. black'].tolist()\n",
    "LoungeTAMBOHUSEgreySalesData = prod1['Lounge set TAMBOHUSE 5 pers. grey'].tolist()\n",
    "SofabedSalesData = prod1['Sofa bed chaiselongue VEJLBY dark grey'].tolist()\n",
    "\n",
    "plt.plot(monthList, LoungeULLEHUSEblackSalesData  ,   label = 'Lounge set ULLEHUSE 6 pers. blackSalesData', marker='o', linewidth=3)\n",
    "plt.plot(monthList, LoungeTAMBOHUSEgreySalesData , label = 'Lounge set TAMBOHUSE 5 pers. greySalesData', marker='o', linewidth=3)\n",
    "plt.plot(monthList, SofabedSalesData, label = 'Sofa bed chaiselongue VEJLBY dark greySalesData', marker='o', linewidth=3)\n",
    "\n",
    "plt.xlabel('Month Number')\n",
    "plt.ylabel('Sales units in number')\n",
    "plt.legend(loc='upper left')\n",
    "plt.xticks(monthList)\n",
    "#plt.yticks([50000.00, 500000.00, 1000000.00, 3000000.00 ,10000000.00, 15000000.00])\n",
    "plt.title('Sales data')\n",
    "plt.show()"
   ]
  },
  {
   "cell_type": "code",
   "execution_count": 413,
   "id": "db629374",
   "metadata": {},
   "outputs": [
    {
     "data": {
      "text/html": [
       "<div>\n",
       "<style scoped>\n",
       "    .dataframe tbody tr th:only-of-type {\n",
       "        vertical-align: middle;\n",
       "    }\n",
       "\n",
       "    .dataframe tbody tr th {\n",
       "        vertical-align: top;\n",
       "    }\n",
       "\n",
       "    .dataframe thead th {\n",
       "        text-align: right;\n",
       "    }\n",
       "</style>\n",
       "<table border=\"1\" class=\"dataframe\">\n",
       "  <thead>\n",
       "    <tr style=\"text-align: right;\">\n",
       "      <th></th>\n",
       "      <th>article_text</th>\n",
       "      <th>month</th>\n",
       "      <th>sales_excluding_tax</th>\n",
       "    </tr>\n",
       "  </thead>\n",
       "  <tbody>\n",
       "    <tr>\n",
       "      <th>0</th>\n",
       "      <td>PIL 650g KUNNA 50x60cm</td>\n",
       "      <td>1</td>\n",
       "      <td>903409.71</td>\n",
       "    </tr>\n",
       "    <tr>\n",
       "      <th>1</th>\n",
       "      <td>PIL 650g KUNNA 50x60cm</td>\n",
       "      <td>2</td>\n",
       "      <td>1082496.67</td>\n",
       "    </tr>\n",
       "    <tr>\n",
       "      <th>2</th>\n",
       "      <td>PIL 650g KUNNA 50x60cm</td>\n",
       "      <td>3</td>\n",
       "      <td>897698.06</td>\n",
       "    </tr>\n",
       "    <tr>\n",
       "      <th>3</th>\n",
       "      <td>PIL 650g KUNNA 50x60cm</td>\n",
       "      <td>4</td>\n",
       "      <td>1026902.79</td>\n",
       "    </tr>\n",
       "    <tr>\n",
       "      <th>4</th>\n",
       "      <td>PIL 650g KUNNA 50x60cm</td>\n",
       "      <td>5</td>\n",
       "      <td>1341651.51</td>\n",
       "    </tr>\n",
       "    <tr>\n",
       "      <th>5</th>\n",
       "      <td>PIL 650g KUNNA 50x60cm</td>\n",
       "      <td>6</td>\n",
       "      <td>1115732.65</td>\n",
       "    </tr>\n",
       "    <tr>\n",
       "      <th>6</th>\n",
       "      <td>PIL 650g KUNNA 50x60cm</td>\n",
       "      <td>7</td>\n",
       "      <td>1702947.33</td>\n",
       "    </tr>\n",
       "    <tr>\n",
       "      <th>7</th>\n",
       "      <td>PIL 650g KUNNA 50x60cm</td>\n",
       "      <td>8</td>\n",
       "      <td>2575142.22</td>\n",
       "    </tr>\n",
       "    <tr>\n",
       "      <th>8</th>\n",
       "      <td>PIL 650g KUNNA 50x60cm</td>\n",
       "      <td>9</td>\n",
       "      <td>1464857.90</td>\n",
       "    </tr>\n",
       "    <tr>\n",
       "      <th>9</th>\n",
       "      <td>PIL 650g KUNNA 50x60cm</td>\n",
       "      <td>10</td>\n",
       "      <td>1736156.16</td>\n",
       "    </tr>\n",
       "    <tr>\n",
       "      <th>10</th>\n",
       "      <td>PIL 650g KUNNA 50x60cm</td>\n",
       "      <td>11</td>\n",
       "      <td>751701.47</td>\n",
       "    </tr>\n",
       "    <tr>\n",
       "      <th>11</th>\n",
       "      <td>PIL 650g KUNNA 50x60cm</td>\n",
       "      <td>12</td>\n",
       "      <td>565870.21</td>\n",
       "    </tr>\n",
       "    <tr>\n",
       "      <th>12</th>\n",
       "      <td>PIL 650g Varnamo KEISAREN 50x60cm</td>\n",
       "      <td>1</td>\n",
       "      <td>2458887.39</td>\n",
       "    </tr>\n",
       "    <tr>\n",
       "      <th>13</th>\n",
       "      <td>PIL 650g Varnamo KEISAREN 50x60cm</td>\n",
       "      <td>2</td>\n",
       "      <td>959270.85</td>\n",
       "    </tr>\n",
       "    <tr>\n",
       "      <th>14</th>\n",
       "      <td>PIL 650g Varnamo KEISAREN 50x60cm</td>\n",
       "      <td>3</td>\n",
       "      <td>1037042.20</td>\n",
       "    </tr>\n",
       "    <tr>\n",
       "      <th>15</th>\n",
       "      <td>PIL 650g Varnamo KEISAREN 50x60cm</td>\n",
       "      <td>4</td>\n",
       "      <td>554920.80</td>\n",
       "    </tr>\n",
       "    <tr>\n",
       "      <th>16</th>\n",
       "      <td>PIL 650g Varnamo KEISAREN 50x60cm</td>\n",
       "      <td>5</td>\n",
       "      <td>2044280.22</td>\n",
       "    </tr>\n",
       "    <tr>\n",
       "      <th>17</th>\n",
       "      <td>PIL 650g Varnamo KEISAREN 50x60cm</td>\n",
       "      <td>6</td>\n",
       "      <td>11609882.36</td>\n",
       "    </tr>\n",
       "    <tr>\n",
       "      <th>18</th>\n",
       "      <td>PIL 650g Varnamo KEISAREN 50x60cm</td>\n",
       "      <td>7</td>\n",
       "      <td>2515234.93</td>\n",
       "    </tr>\n",
       "    <tr>\n",
       "      <th>19</th>\n",
       "      <td>PIL 650g Varnamo KEISAREN 50x60cm</td>\n",
       "      <td>8</td>\n",
       "      <td>1621535.16</td>\n",
       "    </tr>\n",
       "    <tr>\n",
       "      <th>20</th>\n",
       "      <td>PIL 650g Varnamo KEISAREN 50x60cm</td>\n",
       "      <td>9</td>\n",
       "      <td>1725498.62</td>\n",
       "    </tr>\n",
       "    <tr>\n",
       "      <th>21</th>\n",
       "      <td>PIL 650g Varnamo KEISAREN 50x60cm</td>\n",
       "      <td>10</td>\n",
       "      <td>1818361.91</td>\n",
       "    </tr>\n",
       "    <tr>\n",
       "      <th>22</th>\n",
       "      <td>PIL 650g Varnamo KEISAREN 50x60cm</td>\n",
       "      <td>11</td>\n",
       "      <td>1571649.06</td>\n",
       "    </tr>\n",
       "    <tr>\n",
       "      <th>23</th>\n",
       "      <td>PIL 650g Varnamo KEISAREN 50x60cm</td>\n",
       "      <td>12</td>\n",
       "      <td>850298.82</td>\n",
       "    </tr>\n",
       "    <tr>\n",
       "      <th>24</th>\n",
       "      <td>Sack large JYSK 50% recycle</td>\n",
       "      <td>1</td>\n",
       "      <td>107062.20</td>\n",
       "    </tr>\n",
       "    <tr>\n",
       "      <th>25</th>\n",
       "      <td>Sack large JYSK 50% recycle</td>\n",
       "      <td>2</td>\n",
       "      <td>64915.76</td>\n",
       "    </tr>\n",
       "    <tr>\n",
       "      <th>26</th>\n",
       "      <td>Sack large JYSK 50% recycle</td>\n",
       "      <td>3</td>\n",
       "      <td>87912.82</td>\n",
       "    </tr>\n",
       "    <tr>\n",
       "      <th>27</th>\n",
       "      <td>Sack large JYSK 50% recycle</td>\n",
       "      <td>4</td>\n",
       "      <td>64600.39</td>\n",
       "    </tr>\n",
       "    <tr>\n",
       "      <th>28</th>\n",
       "      <td>Sack large JYSK 50% recycle</td>\n",
       "      <td>5</td>\n",
       "      <td>79078.07</td>\n",
       "    </tr>\n",
       "    <tr>\n",
       "      <th>29</th>\n",
       "      <td>Sack large JYSK 50% recycle</td>\n",
       "      <td>6</td>\n",
       "      <td>70780.02</td>\n",
       "    </tr>\n",
       "    <tr>\n",
       "      <th>30</th>\n",
       "      <td>Sack large JYSK 50% recycle</td>\n",
       "      <td>7</td>\n",
       "      <td>76044.35</td>\n",
       "    </tr>\n",
       "    <tr>\n",
       "      <th>31</th>\n",
       "      <td>Sack large JYSK 50% recycle</td>\n",
       "      <td>8</td>\n",
       "      <td>57831.24</td>\n",
       "    </tr>\n",
       "    <tr>\n",
       "      <th>32</th>\n",
       "      <td>Sack large JYSK 50% recycle</td>\n",
       "      <td>9</td>\n",
       "      <td>55202.75</td>\n",
       "    </tr>\n",
       "    <tr>\n",
       "      <th>33</th>\n",
       "      <td>Sack large JYSK 50% recycle</td>\n",
       "      <td>10</td>\n",
       "      <td>63557.30</td>\n",
       "    </tr>\n",
       "    <tr>\n",
       "      <th>34</th>\n",
       "      <td>Sack large JYSK 50% recycle</td>\n",
       "      <td>11</td>\n",
       "      <td>82499.94</td>\n",
       "    </tr>\n",
       "    <tr>\n",
       "      <th>35</th>\n",
       "      <td>Sack large JYSK 50% recycle</td>\n",
       "      <td>12</td>\n",
       "      <td>69269.01</td>\n",
       "    </tr>\n",
       "  </tbody>\n",
       "</table>\n",
       "</div>"
      ],
      "text/plain": [
       "                         article_text  month  sales_excluding_tax\n",
       "0              PIL 650g KUNNA 50x60cm      1            903409.71\n",
       "1              PIL 650g KUNNA 50x60cm      2           1082496.67\n",
       "2              PIL 650g KUNNA 50x60cm      3            897698.06\n",
       "3              PIL 650g KUNNA 50x60cm      4           1026902.79\n",
       "4              PIL 650g KUNNA 50x60cm      5           1341651.51\n",
       "5              PIL 650g KUNNA 50x60cm      6           1115732.65\n",
       "6              PIL 650g KUNNA 50x60cm      7           1702947.33\n",
       "7              PIL 650g KUNNA 50x60cm      8           2575142.22\n",
       "8              PIL 650g KUNNA 50x60cm      9           1464857.90\n",
       "9              PIL 650g KUNNA 50x60cm     10           1736156.16\n",
       "10             PIL 650g KUNNA 50x60cm     11            751701.47\n",
       "11             PIL 650g KUNNA 50x60cm     12            565870.21\n",
       "12  PIL 650g Varnamo KEISAREN 50x60cm      1           2458887.39\n",
       "13  PIL 650g Varnamo KEISAREN 50x60cm      2            959270.85\n",
       "14  PIL 650g Varnamo KEISAREN 50x60cm      3           1037042.20\n",
       "15  PIL 650g Varnamo KEISAREN 50x60cm      4            554920.80\n",
       "16  PIL 650g Varnamo KEISAREN 50x60cm      5           2044280.22\n",
       "17  PIL 650g Varnamo KEISAREN 50x60cm      6          11609882.36\n",
       "18  PIL 650g Varnamo KEISAREN 50x60cm      7           2515234.93\n",
       "19  PIL 650g Varnamo KEISAREN 50x60cm      8           1621535.16\n",
       "20  PIL 650g Varnamo KEISAREN 50x60cm      9           1725498.62\n",
       "21  PIL 650g Varnamo KEISAREN 50x60cm     10           1818361.91\n",
       "22  PIL 650g Varnamo KEISAREN 50x60cm     11           1571649.06\n",
       "23  PIL 650g Varnamo KEISAREN 50x60cm     12            850298.82\n",
       "24        Sack large JYSK 50% recycle      1            107062.20\n",
       "25        Sack large JYSK 50% recycle      2             64915.76\n",
       "26        Sack large JYSK 50% recycle      3             87912.82\n",
       "27        Sack large JYSK 50% recycle      4             64600.39\n",
       "28        Sack large JYSK 50% recycle      5             79078.07\n",
       "29        Sack large JYSK 50% recycle      6             70780.02\n",
       "30        Sack large JYSK 50% recycle      7             76044.35\n",
       "31        Sack large JYSK 50% recycle      8             57831.24\n",
       "32        Sack large JYSK 50% recycle      9             55202.75\n",
       "33        Sack large JYSK 50% recycle     10             63557.30\n",
       "34        Sack large JYSK 50% recycle     11             82499.94\n",
       "35        Sack large JYSK 50% recycle     12             69269.01"
      ]
     },
     "execution_count": 413,
     "metadata": {},
     "output_type": "execute_result"
    }
   ],
   "source": [
    "\n",
    "df_trend\n"
   ]
  },
  {
   "cell_type": "code",
   "execution_count": 414,
   "id": "8fcb93d3",
   "metadata": {},
   "outputs": [
    {
     "name": "stdout",
     "output_type": "stream",
     "text": [
      "<class 'pandas.core.frame.DataFrame'>\n",
      "RangeIndex: 36 entries, 0 to 35\n",
      "Data columns (total 3 columns):\n",
      " #   Column               Non-Null Count  Dtype  \n",
      "---  ------               --------------  -----  \n",
      " 0   article_text         36 non-null     object \n",
      " 1   month                36 non-null     int64  \n",
      " 2   sales_excluding_tax  36 non-null     float64\n",
      "dtypes: float64(1), int64(1), object(1)\n",
      "memory usage: 992.0+ bytes\n"
     ]
    }
   ],
   "source": [
    "df_trend.info()"
   ]
  },
  {
   "cell_type": "code",
   "execution_count": 415,
   "id": "a53808a4",
   "metadata": {},
   "outputs": [
    {
     "data": {
      "image/png": "[encoded data removed]",
      "text/plain": [
       "<Figure size 1080x432 with 1 Axes>"
      ]
     },
     "metadata": {
      "needs_background": "light"
     },
     "output_type": "display_data"
    }
   ],
   "source": [
    "plt.figure(figsize = (15,6))\n",
    "plt.plot(df_trend['month'],df_trend['sales_excluding_tax'], color = 'red')\n",
    "plt.title('Number of Sales per Month Year 2021 ')\n",
    "plt.xlabel('Month')\n",
    "plt.ylabel('Sales Profit')\n",
    "plt.xticks(rotation = 'vertical', size = 8)\n",
    "plt.show()"
   ]
  },
  {
   "cell_type": "code",
   "execution_count": 416,
   "id": "e076165e",
   "metadata": {},
   "outputs": [
    {
     "data": {
      "text/plain": [
       "<seaborn.axisgrid.FacetGrid at 0x2dde3c648b0>"
      ]
     },
     "execution_count": 416,
     "metadata": {},
     "output_type": "execute_result"
    },
    {
     "data": {
      "text/plain": [
       "<Figure size 3600x3600 with 0 Axes>"
      ]
     },
     "metadata": {},
     "output_type": "display_data"
    },
    {
     "data": {
      "image/png": "[encoded data removed]",
      "text/plain": [
       "<Figure size 1193.4x468 with 3 Axes>"
      ]
     },
     "metadata": {
      "needs_background": "light"
     },
     "output_type": "display_data"
    }
   ],
   "source": [
    "plt.figure(figsize = (50,50))\n",
    "g = sns.FacetGrid(df_trend, col='article_text',height=6.5, aspect=0.85)\n",
    "g.map(sns.histplot, \"sales_excluding_tax\")"
   ]
  },
  {
   "cell_type": "code",
   "execution_count": 417,
   "id": "d04803d4",
   "metadata": {},
   "outputs": [
    {
     "data": {
      "image/png": "[encoded data removed]",
      "text/plain": [
       "<Figure size 1440x576 with 1 Axes>"
      ]
     },
     "metadata": {
      "needs_background": "light"
     },
     "output_type": "display_data"
    }
   ],
   "source": [
    "df_res = pd.DataFrame(df_trend, columns=[\"month\", \"sales_excluding_tax\", \"article_text\"])\n",
    " \n",
    "# plot the dataframe\n",
    "df_res.plot(x=\"month\", y=[\"article_text\", \"sales_excluding_tax\"], kind=\"bar\", figsize=(20, 8))\n",
    " \n",
    "# print bar graph\n",
    "plt.show()"
   ]
  },
  {
   "cell_type": "code",
   "execution_count": 418,
   "id": "856aacfc",
   "metadata": {},
   "outputs": [
    {
     "ename": "KeyError",
     "evalue": "'article_text'",
     "output_type": "error",
     "traceback": [
      "\u001b[1;31m---------------------------------------------------------------------------\u001b[0m",
      "\u001b[1;31mKeyError\u001b[0m                                  Traceback (most recent call last)",
      "\u001b[1;32m~\\AppData\\Local\\Temp/ipykernel_18664/1151205276.py\u001b[0m in \u001b[0;36m<module>\u001b[1;34m\u001b[0m\n\u001b[0;32m      2\u001b[0m \u001b[1;32mimport\u001b[0m \u001b[0mmatplotlib\u001b[0m\u001b[1;33m.\u001b[0m\u001b[0mpyplot\u001b[0m \u001b[1;32mas\u001b[0m \u001b[0mmp\u001b[0m\u001b[1;33m\u001b[0m\u001b[1;33m\u001b[0m\u001b[0m\n\u001b[0;32m      3\u001b[0m \u001b[1;33m\u001b[0m\u001b[0m\n\u001b[1;32m----> 4\u001b[1;33m \u001b[0mdata\u001b[0m \u001b[1;33m=\u001b[0m \u001b[0mresult\u001b[0m\u001b[1;33m.\u001b[0m\u001b[0mgroupby\u001b[0m\u001b[1;33m(\u001b[0m\u001b[1;33m[\u001b[0m\u001b[1;34m'article_text'\u001b[0m\u001b[1;33m,\u001b[0m\u001b[1;34m'month'\u001b[0m\u001b[1;33m]\u001b[0m\u001b[1;33m)\u001b[0m\u001b[1;33m.\u001b[0m\u001b[0msum\u001b[0m\u001b[1;33m(\u001b[0m\u001b[1;33m)\u001b[0m\u001b[1;33m[\u001b[0m\u001b[1;34m'sales_excluding_tax'\u001b[0m\u001b[1;33m]\u001b[0m\u001b[1;33m.\u001b[0m\u001b[0mreset_index\u001b[0m\u001b[1;33m(\u001b[0m\u001b[1;33m)\u001b[0m\u001b[1;33m\u001b[0m\u001b[1;33m\u001b[0m\u001b[0m\n\u001b[0m\u001b[0;32m      5\u001b[0m \u001b[1;33m\u001b[0m\u001b[0m\n\u001b[0;32m      6\u001b[0m \u001b[1;31m# form dataframe\u001b[0m\u001b[1;33m\u001b[0m\u001b[1;33m\u001b[0m\u001b[0m\n",
      "\u001b[1;32m~\\anaconda3\\lib\\site-packages\\pandas\\core\\frame.py\u001b[0m in \u001b[0;36mgroupby\u001b[1;34m(self, by, axis, level, as_index, sort, group_keys, squeeze, observed, dropna)\u001b[0m\n\u001b[0;32m   7629\u001b[0m         \u001b[1;31m# error: Argument \"squeeze\" to \"DataFrameGroupBy\" has incompatible type\u001b[0m\u001b[1;33m\u001b[0m\u001b[1;33m\u001b[0m\u001b[0m\n\u001b[0;32m   7630\u001b[0m         \u001b[1;31m# \"Union[bool, NoDefault]\"; expected \"bool\"\u001b[0m\u001b[1;33m\u001b[0m\u001b[1;33m\u001b[0m\u001b[0m\n\u001b[1;32m-> 7631\u001b[1;33m         return DataFrameGroupBy(\n\u001b[0m\u001b[0;32m   7632\u001b[0m             \u001b[0mobj\u001b[0m\u001b[1;33m=\u001b[0m\u001b[0mself\u001b[0m\u001b[1;33m,\u001b[0m\u001b[1;33m\u001b[0m\u001b[1;33m\u001b[0m\u001b[0m\n\u001b[0;32m   7633\u001b[0m             \u001b[0mkeys\u001b[0m\u001b[1;33m=\u001b[0m\u001b[0mby\u001b[0m\u001b[1;33m,\u001b[0m\u001b[1;33m\u001b[0m\u001b[1;33m\u001b[0m\u001b[0m\n",
      "\u001b[1;32m~\\anaconda3\\lib\\site-packages\\pandas\\core\\groupby\\groupby.py\u001b[0m in \u001b[0;36m__init__\u001b[1;34m(self, obj, keys, axis, level, grouper, exclusions, selection, as_index, sort, group_keys, squeeze, observed, mutated, dropna)\u001b[0m\n\u001b[0;32m    887\u001b[0m             \u001b[1;32mfrom\u001b[0m \u001b[0mpandas\u001b[0m\u001b[1;33m.\u001b[0m\u001b[0mcore\u001b[0m\u001b[1;33m.\u001b[0m\u001b[0mgroupby\u001b[0m\u001b[1;33m.\u001b[0m\u001b[0mgrouper\u001b[0m \u001b[1;32mimport\u001b[0m \u001b[0mget_grouper\u001b[0m\u001b[1;33m\u001b[0m\u001b[1;33m\u001b[0m\u001b[0m\n\u001b[0;32m    888\u001b[0m \u001b[1;33m\u001b[0m\u001b[0m\n\u001b[1;32m--> 889\u001b[1;33m             grouper, exclusions, obj = get_grouper(\n\u001b[0m\u001b[0;32m    890\u001b[0m                 \u001b[0mobj\u001b[0m\u001b[1;33m,\u001b[0m\u001b[1;33m\u001b[0m\u001b[1;33m\u001b[0m\u001b[0m\n\u001b[0;32m    891\u001b[0m                 \u001b[0mkeys\u001b[0m\u001b[1;33m,\u001b[0m\u001b[1;33m\u001b[0m\u001b[1;33m\u001b[0m\u001b[0m\n",
      "\u001b[1;32m~\\anaconda3\\lib\\site-packages\\pandas\\core\\groupby\\grouper.py\u001b[0m in \u001b[0;36mget_grouper\u001b[1;34m(obj, key, axis, level, sort, observed, mutated, validate, dropna)\u001b[0m\n\u001b[0;32m    860\u001b[0m                 \u001b[0min_axis\u001b[0m\u001b[1;33m,\u001b[0m \u001b[0mlevel\u001b[0m\u001b[1;33m,\u001b[0m \u001b[0mgpr\u001b[0m \u001b[1;33m=\u001b[0m \u001b[1;32mFalse\u001b[0m\u001b[1;33m,\u001b[0m \u001b[0mgpr\u001b[0m\u001b[1;33m,\u001b[0m \u001b[1;32mNone\u001b[0m\u001b[1;33m\u001b[0m\u001b[1;33m\u001b[0m\u001b[0m\n\u001b[0;32m    861\u001b[0m             \u001b[1;32melse\u001b[0m\u001b[1;33m:\u001b[0m\u001b[1;33m\u001b[0m\u001b[1;33m\u001b[0m\u001b[0m\n\u001b[1;32m--> 862\u001b[1;33m                 \u001b[1;32mraise\u001b[0m \u001b[0mKeyError\u001b[0m\u001b[1;33m(\u001b[0m\u001b[0mgpr\u001b[0m\u001b[1;33m)\u001b[0m\u001b[1;33m\u001b[0m\u001b[1;33m\u001b[0m\u001b[0m\n\u001b[0m\u001b[0;32m    863\u001b[0m         \u001b[1;32melif\u001b[0m \u001b[0misinstance\u001b[0m\u001b[1;33m(\u001b[0m\u001b[0mgpr\u001b[0m\u001b[1;33m,\u001b[0m \u001b[0mGrouper\u001b[0m\u001b[1;33m)\u001b[0m \u001b[1;32mand\u001b[0m \u001b[0mgpr\u001b[0m\u001b[1;33m.\u001b[0m\u001b[0mkey\u001b[0m \u001b[1;32mis\u001b[0m \u001b[1;32mnot\u001b[0m \u001b[1;32mNone\u001b[0m\u001b[1;33m:\u001b[0m\u001b[1;33m\u001b[0m\u001b[1;33m\u001b[0m\u001b[0m\n\u001b[0;32m    864\u001b[0m             \u001b[1;31m# Add key to exclusions\u001b[0m\u001b[1;33m\u001b[0m\u001b[1;33m\u001b[0m\u001b[0m\n",
      "\u001b[1;31mKeyError\u001b[0m: 'article_text'"
     ]
    }
   ],
   "source": [
    "import pandas as pd\n",
    "import matplotlib.pyplot as mp\n",
    "\n",
    "data = result.groupby(['article_text','month']).sum()['sales_excluding_tax'].reset_index()\n",
    "\n",
    "# form dataframe\n",
    "data = data.head()\n",
    "\n",
    "df = pd.DataFrame(data, columns=[\"article_text\", \"sales_excluding_tax\", \"month\"])\n",
    "\n",
    "# plot the dataframe\n",
    "df.plot(x=\"article_text\", y=[\"month\", \"sales_excluding_tax\"], kind=\"bar\", figsize=(20, 8))\n",
    "\n",
    "# print bar graph\n",
    "mp.show()\n"
   ]
  },
  {
   "cell_type": "code",
   "execution_count": null,
   "id": "5f8cfb38",
   "metadata": {},
   "outputs": [],
   "source": [
    "df.groupby('month').sum()"
   ]
  },
  {
   "cell_type": "markdown",
   "id": "dee342ba",
   "metadata": {},
   "source": [
    "## What was the best month for sales?"
   ]
  },
  {
   "cell_type": "code",
   "execution_count": null,
   "id": "3ea70605",
   "metadata": {
    "scrolled": true
   },
   "outputs": [],
   "source": [
    "months = range(1,13)\n",
    "results = df.groupby('month').sum()\n",
    "plt.bar(month, results['sales_excluding_tax'])\n",
    "plt.show()"
   ]
  },
  {
   "cell_type": "code",
   "execution_count": null,
   "id": "59674b3e",
   "metadata": {},
   "outputs": [],
   "source": [
    "product_group1 = df.groupby('article_text')\n",
    "product_group1.sales_excluding_tax.sum().nsmallest(10)"
   ]
  },
  {
   "cell_type": "code",
   "execution_count": null,
   "id": "0eb92824",
   "metadata": {},
   "outputs": [],
   "source": [
    "prod4 = df.loc[df['article_text'] == 'Wardrobe SALTOV 204x222 oak/black'] \n",
    "prod4"
   ]
  },
  {
   "cell_type": "code",
   "execution_count": null,
   "id": "e645fb2a",
   "metadata": {},
   "outputs": [],
   "source": [
    "prod4 = prod4.groupby('month').sum()['sales_excluding_tax'].reset_index()"
   ]
  },
  {
   "cell_type": "code",
   "execution_count": null,
   "id": "5dd723ee",
   "metadata": {},
   "outputs": [],
   "source": [
    "prod4 = prod4.rename(columns = {'sales_excluding_tax':'Wardrobe SALTOV 204x222 oak/black'})\n",
    "prod4"
   ]
  },
  {
   "cell_type": "code",
   "execution_count": null,
   "id": "f0ec9ce8",
   "metadata": {
    "scrolled": true
   },
   "outputs": [],
   "source": [
    "prod5 = df.loc[df['article_text'] == 'Coffee table TAMHOLT 50x100 wh/natural'] \n",
    "prod5.head(2)"
   ]
  },
  {
   "cell_type": "code",
   "execution_count": null,
   "id": "2a904705",
   "metadata": {},
   "outputs": [],
   "source": [
    "prod5 = prod5.groupby('month').sum()['sales_excluding_tax'].reset_index()"
   ]
  },
  {
   "cell_type": "code",
   "execution_count": null,
   "id": "b521ed87",
   "metadata": {},
   "outputs": [],
   "source": [
    "prod5 = prod5.rename(columns = {'sales_excluding_tax':'Coffee table TAMHOLT 50x100 wh/natural'})\n",
    "prod5"
   ]
  },
  {
   "cell_type": "code",
   "execution_count": null,
   "id": "078c4908",
   "metadata": {
    "scrolled": true
   },
   "outputs": [],
   "source": [
    "prod6 = df.loc[df['article_text'] == 'BM GIMO 50x80cm natural KR'] \n",
    "prod6.head(2)"
   ]
  },
  {
   "cell_type": "code",
   "execution_count": null,
   "id": "9b1cfb09",
   "metadata": {},
   "outputs": [],
   "source": [
    "prod6 = prod6.rename(columns = {'sales_excluding_tax':'BM GIMO 50x80cm natural KR'})\n",
    "prod6"
   ]
  },
  {
   "cell_type": "code",
   "execution_count": null,
   "id": "bb03ed50",
   "metadata": {},
   "outputs": [],
   "source": [
    "prod5_var = prod5['Coffee table TAMHOLT 50x100 wh/natural']\n",
    "prod6_var = prod6['BM GIMO 50x80cm natural KR']\n",
    "display(prod5_var)\n",
    "display(prod6_var)"
   ]
  },
  {
   "cell_type": "code",
   "execution_count": null,
   "id": "8a38a027",
   "metadata": {},
   "outputs": [],
   "source": [
    "prod4.insert(2, 'Coffee table TAMHOLT 50x100 wh/natural', prod5_var)\n",
    "prod4.insert(3, 'BM GIMO 50x80cm natural KR', prod6_var )\n",
    "prod4"
   ]
  },
  {
   "cell_type": "code",
   "execution_count": null,
   "id": "174f10f1",
   "metadata": {
    "scrolled": true
   },
   "outputs": [],
   "source": [
    "prod4.isnull().sum()"
   ]
  },
  {
   "cell_type": "code",
   "execution_count": null,
   "id": "f4c8b69f",
   "metadata": {},
   "outputs": [],
   "source": [
    "prod4 = prod4.dropna()"
   ]
  },
  {
   "cell_type": "code",
   "execution_count": null,
   "id": "aee25cbe",
   "metadata": {
    "scrolled": true
   },
   "outputs": [],
   "source": [
    "prod4.isnull().sum()"
   ]
  },
  {
   "cell_type": "code",
   "execution_count": 419,
   "id": "1693f27c",
   "metadata": {},
   "outputs": [
    {
     "ename": "ValueError",
     "evalue": "cannot insert Coffee table TAMHOLT 50x100 wh/natural, already exists",
     "output_type": "error",
     "traceback": [
      "\u001b[1;31m---------------------------------------------------------------------------\u001b[0m",
      "\u001b[1;31mValueError\u001b[0m                                Traceback (most recent call last)",
      "\u001b[1;32m~\\AppData\\Local\\Temp/ipykernel_18664/4043602898.py\u001b[0m in \u001b[0;36m<module>\u001b[1;34m\u001b[0m\n\u001b[1;32m----> 1\u001b[1;33m \u001b[0mprod4\u001b[0m\u001b[1;33m.\u001b[0m\u001b[0minsert\u001b[0m\u001b[1;33m(\u001b[0m\u001b[1;36m2\u001b[0m\u001b[1;33m,\u001b[0m \u001b[1;34m'Coffee table TAMHOLT 50x100 wh/natural'\u001b[0m\u001b[1;33m,\u001b[0m \u001b[0mprod5_var\u001b[0m\u001b[1;33m)\u001b[0m\u001b[1;33m\u001b[0m\u001b[1;33m\u001b[0m\u001b[0m\n\u001b[0m\u001b[0;32m      2\u001b[0m \u001b[0mprod4\u001b[0m\u001b[1;33m.\u001b[0m\u001b[0minsert\u001b[0m\u001b[1;33m(\u001b[0m\u001b[1;36m3\u001b[0m\u001b[1;33m,\u001b[0m \u001b[1;34m'BM GIMO 50x80cm natural KR'\u001b[0m\u001b[1;33m,\u001b[0m \u001b[0mprod6_var\u001b[0m \u001b[1;33m)\u001b[0m\u001b[1;33m\u001b[0m\u001b[1;33m\u001b[0m\u001b[0m\n\u001b[0;32m      3\u001b[0m \u001b[0mprod4\u001b[0m\u001b[1;33m\u001b[0m\u001b[1;33m\u001b[0m\u001b[0m\n",
      "\u001b[1;32m~\\anaconda3\\lib\\site-packages\\pandas\\core\\frame.py\u001b[0m in \u001b[0;36minsert\u001b[1;34m(self, loc, column, value, allow_duplicates)\u001b[0m\n\u001b[0;32m   4412\u001b[0m         \u001b[1;32mif\u001b[0m \u001b[1;32mnot\u001b[0m \u001b[0mallow_duplicates\u001b[0m \u001b[1;32mand\u001b[0m \u001b[0mcolumn\u001b[0m \u001b[1;32min\u001b[0m \u001b[0mself\u001b[0m\u001b[1;33m.\u001b[0m\u001b[0mcolumns\u001b[0m\u001b[1;33m:\u001b[0m\u001b[1;33m\u001b[0m\u001b[1;33m\u001b[0m\u001b[0m\n\u001b[0;32m   4413\u001b[0m             \u001b[1;31m# Should this be a different kind of error??\u001b[0m\u001b[1;33m\u001b[0m\u001b[1;33m\u001b[0m\u001b[0m\n\u001b[1;32m-> 4414\u001b[1;33m             \u001b[1;32mraise\u001b[0m \u001b[0mValueError\u001b[0m\u001b[1;33m(\u001b[0m\u001b[1;34mf\"cannot insert {column}, already exists\"\u001b[0m\u001b[1;33m)\u001b[0m\u001b[1;33m\u001b[0m\u001b[1;33m\u001b[0m\u001b[0m\n\u001b[0m\u001b[0;32m   4415\u001b[0m         \u001b[1;32mif\u001b[0m \u001b[1;32mnot\u001b[0m \u001b[0misinstance\u001b[0m\u001b[1;33m(\u001b[0m\u001b[0mloc\u001b[0m\u001b[1;33m,\u001b[0m \u001b[0mint\u001b[0m\u001b[1;33m)\u001b[0m\u001b[1;33m:\u001b[0m\u001b[1;33m\u001b[0m\u001b[1;33m\u001b[0m\u001b[0m\n\u001b[0;32m   4416\u001b[0m             \u001b[1;32mraise\u001b[0m \u001b[0mTypeError\u001b[0m\u001b[1;33m(\u001b[0m\u001b[1;34m\"loc must be int\"\u001b[0m\u001b[1;33m)\u001b[0m\u001b[1;33m\u001b[0m\u001b[1;33m\u001b[0m\u001b[0m\n",
      "\u001b[1;31mValueError\u001b[0m: cannot insert Coffee table TAMHOLT 50x100 wh/natural, already exists"
     ]
    }
   ],
   "source": [
    "prod4.insert(2, 'Coffee table TAMHOLT 50x100 wh/natural', prod5_var)\n",
    "prod4.insert(3, 'BM GIMO 50x80cm natural KR', prod6_var )\n",
    "prod4"
   ]
  },
  {
   "cell_type": "code",
   "execution_count": null,
   "id": "73809a4b",
   "metadata": {},
   "outputs": [],
   "source": [
    "plt.figure(figsize = (15,6))\n",
    "\n",
    "monthList = prod1['month'].tolist()\n",
    "LoungeULLEHUSEblackSalesData = prod1['Lounge set ULLEHUSE 6 pers. black'].tolist()\n",
    "LoungeTAMBOHUSEgreySalesData = prod1['Lounge set TAMBOHUSE 5 pers. grey'].tolist()\n",
    "SofabedSalesData = prod1['Sofa bed chaiselongue VEJLBY dark grey'].tolist()\n",
    "\n",
    "plt.plot(monthList, LoungeULLEHUSEblackSalesData  ,   label = 'Lounge set ULLEHUSE 6 pers. blackSalesData', marker='o', linewidth=3)\n",
    "plt.plot(monthList, LoungeTAMBOHUSEgreySalesData , label = 'Lounge set TAMBOHUSE 5 pers. greySalesData', marker='o', linewidth=3)\n",
    "plt.plot(monthList, SofabedSalesData, label = 'Sofa bed chaiselongue VEJLBY dark greySalesData', marker='o', linewidth=3)\n",
    "\n",
    "plt.xlabel('Month Number')\n",
    "plt.ylabel('Sales units in number')\n",
    "plt.legend(loc='upper left')\n",
    "plt.xticks(monthList)\n",
    "#plt.yticks([50000.00, 500000.00, 1000000.00, 3000000.00 ,10000000.00, 15000000.00])\n",
    "plt.title('Sales data')\n",
    "plt.show()"
   ]
  }
 ],
 "metadata": {
  "kernelspec": {
   "display_name": "Python 3 (ipykernel)",
   "language": "python",
   "name": "python3"
  },
  "language_info": {
   "codemirror_mode": {
    "name": "ipython",
    "version": 3
   },
   "file_extension": ".py",
   "mimetype": "text/x-python",
   "name": "python",
   "nbconvert_exporter": "python",
   "pygments_lexer": "ipython3",
   "version": "3.9.7"
  }
 },
 "nbformat": 4,
 "nbformat_minor": 5
}
